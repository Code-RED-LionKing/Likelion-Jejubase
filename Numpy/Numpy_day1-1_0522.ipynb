{
 "cells": [
  {
   "cell_type": "markdown",
   "id": "8f462bae",
   "metadata": {},
   "source": [
    "# Numpy\n"
   ]
  },
  {
   "cell_type": "code",
   "execution_count": 1,
   "id": "0f4e4556",
   "metadata": {},
   "outputs": [],
   "source": [
    "import numpy as np"
   ]
  },
  {
   "cell_type": "code",
   "execution_count": 8,
   "id": "b5ab644b",
   "metadata": {},
   "outputs": [
    {
     "name": "stdout",
     "output_type": "stream",
     "text": [
      "[1 2 3 4]\n"
     ]
    }
   ],
   "source": [
    "a = np.array([1, 2, 3, 4])\n",
    "print(a) #행렬에서의 1차원 배열"
   ]
  },
  {
   "cell_type": "code",
   "execution_count": 9,
   "id": "d8d7ab3e",
   "metadata": {},
   "outputs": [
    {
     "name": "stdout",
     "output_type": "stream",
     "text": [
      "[1, 2, 3, 4]\n"
     ]
    }
   ],
   "source": [
    "l = [1, 2, 3, 4]\n",
    "print(l)"
   ]
  },
  {
   "cell_type": "code",
   "execution_count": 10,
   "id": "f8dad0a7",
   "metadata": {},
   "outputs": [
    {
     "name": "stdout",
     "output_type": "stream",
     "text": [
      "(4,)\n",
      "1\n",
      "int32\n"
     ]
    }
   ],
   "source": [
    "print(a. shape)\n",
    "print(a. ndim)\n",
    "print(a.dtype)"
   ]
  },
  {
   "cell_type": "code",
   "execution_count": 23,
   "id": "82c400e3",
   "metadata": {},
   "outputs": [
    {
     "name": "stdout",
     "output_type": "stream",
     "text": [
      "[[1 2 3]\n",
      " [2 3 3]\n",
      " [3 4 3]]\n",
      "[[1 2 3]\n",
      " [2 3 3]\n",
      " [3 4 3]]\n",
      "(4,)\n",
      "1\n",
      "int32\n",
      "4\n",
      "36\n"
     ]
    }
   ],
   "source": [
    "b = np.array([[1,2,3], [2,3,3],[3,4,3]])\n",
    "print(b)\n",
    "\n",
    "print(b)\n",
    "print(b. shape)\n",
    "print(b. ndim)\n",
    "print(b.dtype)\n",
    "print(b.itemsize)\n",
    "print(b.nbytes)"
   ]
  },
  {
   "cell_type": "code",
   "execution_count": 25,
   "id": "02d9db19",
   "metadata": {},
   "outputs": [
    {
     "name": "stdout",
     "output_type": "stream",
     "text": [
      "[[[1 2]\n",
      "  [3 4]]\n",
      "\n",
      " [[5 6]\n",
      "  [7 8]]]\n",
      "(4,)\n",
      "1\n",
      "int32\n",
      "4\n",
      "36\n"
     ]
    }
   ],
   "source": [
    "c = np.array([[[1,2], [3,4]], [[5,6], [7,8]]])\n",
    "print(c)\n",
    "print(c. shape)\n",
    "print(c. ndim)\n",
    "print(c.dtype)\n",
    "print(c.itemsize)\n",
    "print(c.nbytes)"
   ]
  },
  {
   "cell_type": "code",
   "execution_count": 27,
   "id": "5cb88b18",
   "metadata": {},
   "outputs": [
    {
     "name": "stdout",
     "output_type": "stream",
     "text": [
      "[1 2 3]\n"
     ]
    }
   ],
   "source": [
    "# 1차원: 벡터\n",
    "\n",
    "v = np.array([1,2,3])\n",
    "print(v)"
   ]
  },
  {
   "cell_type": "code",
   "execution_count": 29,
   "id": "afd5aad8",
   "metadata": {},
   "outputs": [
    {
     "name": "stdout",
     "output_type": "stream",
     "text": [
      "[[1 2 3]\n",
      " [1 2 3]]\n"
     ]
    }
   ],
   "source": [
    "# 2차원 : 행렬(Matrix\n",
    "m = np.array([[1,2,3], [1,2,3]])\n",
    "print(m)"
   ]
  },
  {
   "cell_type": "code",
   "execution_count": 30,
   "id": "390d330e",
   "metadata": {},
   "outputs": [],
   "source": [
    "#3차원 : 텐서(Tensor)\n"
   ]
  },
  {
   "cell_type": "code",
   "execution_count": 32,
   "id": "c366bff9",
   "metadata": {},
   "outputs": [
    {
     "name": "stdout",
     "output_type": "stream",
     "text": [
      "[0 2 4 6 8]\n",
      "(5,)\n",
      "1\n",
      "int32\n",
      "4\n",
      "20\n"
     ]
    }
   ],
   "source": [
    "f = np.array([i for i in range(0, 10, 2)]) #(start, end, step)\n",
    "print(f)\n",
    "print(f. shape)\n",
    "print(f. ndim)\n",
    "print(f.dtype)\n",
    "print(f.itemsize)\n",
    "print(f.nbytes)"
   ]
  },
  {
   "cell_type": "code",
   "execution_count": 37,
   "id": "cda40ee9",
   "metadata": {},
   "outputs": [
    {
     "name": "stdout",
     "output_type": "stream",
     "text": [
      "[1.+2.j 3.+4.j 5.+6.j]\n",
      "[1. 3. 5.]\n",
      "[2. 4. 6.]\n"
     ]
    }
   ],
   "source": [
    "c = np.array([1 + 2j, 3 +4j, 5 + 6j], dtype=np.complex64)\n",
    "print(c)\n",
    "print(c.real # 실수부분 출력\n",
    "print(c.imag) # 허수부분 출력\n",
    "      "
   ]
  },
  {
   "cell_type": "markdown",
   "id": "0882d588",
   "metadata": {},
   "source": [
    "# 문자형\n"
   ]
  },
  {
   "cell_type": "code",
   "execution_count": 40,
   "id": "a07b9654",
   "metadata": {},
   "outputs": [
    {
     "name": "stdout",
     "output_type": "stream",
     "text": [
      "b'\\x01\\x02\\x03'\n",
      "|S3\n"
     ]
    }
   ],
   "source": [
    "data = [1, 2, 3]\n",
    "s = np.string_(data)\n",
    "print(s)\n",
    "print(s.dtype)"
   ]
  },
  {
   "cell_type": "code",
   "execution_count": 43,
   "id": "f0ef2823",
   "metadata": {},
   "outputs": [
    {
     "name": "stdout",
     "output_type": "stream",
     "text": [
      "[1, 2, 3, 4, 5]\n",
      "b'\\x01\\x02\\x03\\x04\\x05'\n",
      "|S5\n"
     ]
    }
   ],
   "source": [
    "data3 = [1,2,3,4,5]\n",
    "print(data3)\n",
    "\n",
    "s2 = np.string_(data3) #  s2 =np.array(data3, dtype = 'S')\n",
    "print(s2)\n",
    "print(s2.dtype)"
   ]
  },
  {
   "cell_type": "markdown",
   "id": "d3105858",
   "metadata": {},
   "source": [
    "### 유니코드"
   ]
  },
  {
   "cell_type": "code",
   "execution_count": 44,
   "id": "cae7a50a",
   "metadata": {},
   "outputs": [
    {
     "name": "stdout",
     "output_type": "stream",
     "text": [
      "['1' '2' '3' '4' '5']\n",
      "<U1\n"
     ]
    }
   ],
   "source": [
    "u = np.array(data3, dtype = 'U') # 유니코드\n",
    "\n",
    "print(u)\n",
    "print(u.dtype)"
   ]
  },
  {
   "cell_type": "markdown",
   "id": "32ea7957",
   "metadata": {},
   "source": [
    "## 데이터 형 변환(Cast, Casting 형 변환)"
   ]
  },
  {
   "cell_type": "code",
   "execution_count": 45,
   "id": "64f2422e",
   "metadata": {},
   "outputs": [
    {
     "name": "stdout",
     "output_type": "stream",
     "text": [
      "[1.1 2.  3. ]\n",
      "float64\n"
     ]
    }
   ],
   "source": [
    "data = [1.1, 2 , 3]\n",
    "a = np.float64(data) #np.데이터타입\n",
    "print(a)\n",
    "print(a.dtype)"
   ]
  },
  {
   "cell_type": "code",
   "execution_count": 49,
   "id": "6604a10d",
   "metadata": {},
   "outputs": [
    {
     "name": "stdout",
     "output_type": "stream",
     "text": [
      "[1 2 3]\n",
      "int64\n"
     ]
    }
   ],
   "source": [
    "a = a.astype(np.int64)\n",
    "print(a)\n",
    "print(a.dtype)"
   ]
  },
  {
   "cell_type": "code",
   "execution_count": 51,
   "id": "ab7e9d42",
   "metadata": {},
   "outputs": [
    {
     "name": "stdout",
     "output_type": "stream",
     "text": [
      "0\n",
      "uint16\n"
     ]
    }
   ],
   "source": [
    "b = np.uint16(0)\n",
    "print(b)\n",
    "print(b.dtype)"
   ]
  },
  {
   "cell_type": "code",
   "execution_count": 52,
   "id": "26972b83",
   "metadata": {},
   "outputs": [
    {
     "name": "stdout",
     "output_type": "stream",
     "text": [
      "65535\n"
     ]
    }
   ],
   "source": [
    "c= np.uint16(-1) # uint ( 0 ~ 65,535)\n",
    "print(c)"
   ]
  },
  {
   "cell_type": "code",
   "execution_count": null,
   "id": "99df3c16",
   "metadata": {},
   "outputs": [],
   "source": []
  }
 ],
 "metadata": {
  "kernelspec": {
   "display_name": "Python 3 (ipykernel)",
   "language": "python",
   "name": "python3"
  },
  "language_info": {
   "codemirror_mode": {
    "name": "ipython",
    "version": 3
   },
   "file_extension": ".py",
   "mimetype": "text/x-python",
   "name": "python",
   "nbconvert_exporter": "python",
   "pygments_lexer": "ipython3",
   "version": "3.10.9"
  }
 },
 "nbformat": 4,
 "nbformat_minor": 5
}
