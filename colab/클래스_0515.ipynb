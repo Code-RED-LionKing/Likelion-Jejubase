{
 "cells": [
  {
   "cell_type": "code",
   "execution_count": 12,
   "id": "c7ae68c4",
   "metadata": {},
   "outputs": [
    {
     "name": "stdout",
     "output_type": "stream",
     "text": [
      "wy0628j@likelion.org\n",
      "이대위\n",
      "3\n",
      "안녕하세요 저는 김대위입니다\n",
      "안녕하세요 저는 김대위입니다\n",
      "wy0628j@likelion.org 여기로 연락주세요\n"
     ]
    }
   ],
   "source": [
    "#객체 (틀)\n",
    "class User:\n",
    "    def say_hello(some_user):\n",
    "        print(f'안녕하세요 저는 {user1.name}입니다')\n",
    "    \n",
    "    def contact(howto):\n",
    "        print(f'{user1.email} 여기로 연락주세요')\n",
    "    \n",
    "\n",
    "user1 = User()\n",
    "user2 = User()\n",
    "user3 = User()\n",
    "\n",
    "\n",
    "#각각의 인스턴스 변수 (속성= 변수, 행동 = 함수(메소드))\n",
    "user1.name = \"김대위\"\n",
    "user1.email = 'wy0628j@likelion.org'\n",
    "user1.password = '1'\n",
    "\n",
    "user2.name = \"이대위\"\n",
    "user2.email = 'bluejay91@likelion.org'\n",
    "user2.password = '2'\n",
    "\n",
    "\n",
    "user3.name = \"박대위\"\n",
    "user3.email = 'wy910628j@likelion.org'\n",
    "user3.password = '3'\n",
    "\n",
    "print(user1.email)\n",
    "print(user2. name)\n",
    "print(user3.password)\n",
    "\n",
    "User.say_hello(user1) #클래스에서 메소드를 호출.\n",
    "user1.say_hello() #인스턴스의 메소드를 호출. 위에꺼랑 똑같다.\n",
    "User.contact(user1)\n"
   ]
  },
  {
   "cell_type": "markdown",
   "id": "e24b1eba",
   "metadata": {},
   "source": [
    "#인스턴스 메소드\n",
    "#인스턴스 변수를 사용하거나, 인스턴스 변수에 값을 설정하는 메소드."
   ]
  },
  {
   "cell_type": "code",
   "execution_count": 25,
   "id": "5015a9a3",
   "metadata": {},
   "outputs": [
    {
     "name": "stdout",
     "output_type": "stream",
     "text": [
      "True\n",
      "False\n"
     ]
    }
   ],
   "source": [
    "class Book:\n",
    "    def say_hi(self):\n",
    "        print('안녕하세요 저는{user1.name}입니다.')\n",
    "        \n",
    "    def check_name(self, name):\n",
    "        return self.name == name\n",
    "    \n",
    "    \n",
    "user1 = Book()\n",
    "user2 = Book()\n",
    "user3 = Book()\n",
    "\n",
    "user1.name = \"김대위\"\n",
    "user1.email = 'wy0628j@likelion.org'\n",
    "user1.password = '1'\n",
    "\n",
    "\n",
    "user2.name = \"이대위\"\n",
    "user2.email = 'bluejay91@likelion.org'\n",
    "user2.password = '2'\n",
    "\n",
    "\n",
    "user3.name = \"박대위\"\n",
    "user3.email = 'wy910628j@likelion.org'\n",
    "user3.password = '3'\n",
    "\n",
    "print(user1.check_name(\"김대위\"))\n",
    "print(user1.check_name(\"강영훈\"))"
   ]
  },
  {
   "cell_type": "code",
   "execution_count": 30,
   "id": "27b74147",
   "metadata": {},
   "outputs": [
    {
     "name": "stdout",
     "output_type": "stream",
     "text": [
      "안녕하세요! 저는 정우용입니다.\n",
      "사용자: 정우용, 이메일: aa@aa.com, 비밀번호 : 123\n",
      "안녕하세요! 저는 여주영입니다.\n",
      "사용자: 여주영, 이메일: bb@bb.com, 비밀번호 : 1234\n"
     ]
    }
   ],
   "source": [
    "#str 던더\n",
    "class User2:\n",
    "    def __init__(self, name, email, pw):\n",
    "        #유저 인스턴스의 모든 변수를 지정해주는 메소드\n",
    "        self.name = name\n",
    "        self.email = email\n",
    "        self. pw = pw\n",
    "        \n",
    "#     def say_hello2(self):\n",
    "#         print(f'안녕하세요! 저는 {self.name}입니다.')\n",
    "        \n",
    "    def __str__(self):\n",
    "        print(f'안녕하세요! 저는 {self.name}입니다.')\n",
    "        return f'사용자: {self.name}, 이메일: {self.email}, 비밀번호 : {self.pw}'\n",
    "    \n",
    "user1 = User2(\"정우용\", \"aa@aa.com\", '123')\n",
    "user2 = User2('여주영', 'bb@bb.com', '1234')\n",
    "\n",
    "print(user1)\n",
    "print(user2)\n",
    "        "
   ]
  },
  {
   "cell_type": "code",
   "execution_count": 31,
   "id": "6ac9cf76",
   "metadata": {},
   "outputs": [
    {
     "name": "stdout",
     "output_type": "stream",
     "text": [
      "1\n"
     ]
    }
   ],
   "source": [
    "#클래스 변수\n",
    "class User3:\n",
    "    count = 0\n",
    "    \n",
    "    def __init__(self, name, email, pw):\n",
    "        #유저 인스턴스의 모든 변수를 지정해주는 메소드\n",
    "        self.name = name\n",
    "        self.email = email\n",
    "        self. pw = pw\n",
    "User3.count = 1\n",
    "print(User3.count)\n",
    "        "
   ]
  },
  {
   "cell_type": "code",
   "execution_count": 32,
   "id": "515fb536",
   "metadata": {},
   "outputs": [],
   "source": [
    "#클래스변수 count가 유저 instance 수만큼 표시되게하려면?\n",
    "#유저가 생성될떄마다 카운트."
   ]
  },
  {
   "cell_type": "code",
   "execution_count": 38,
   "id": "5b7e7534",
   "metadata": {},
   "outputs": [
    {
     "name": "stdout",
     "output_type": "stream",
     "text": [
      "5\n"
     ]
    }
   ],
   "source": [
    "#클래스 변수\n",
    "class User3:\n",
    "    count = 0\n",
    "    \n",
    "    def __init__(self, name, email, pw):\n",
    "        #유저 인스턴스의 모든 변수를 지정해주는 메소드\n",
    "        self.name = name\n",
    "        self.email = email\n",
    "        self. pw = pw\n",
    "        \n",
    "        User3.count+= 1\n",
    "        \n",
    "user1 = User3(\"정우용\", \"aa@aa.com\", '123')\n",
    "user2 = User3(\"정우용\", \"aa@aa.com\", '123')\n",
    "user3 = User3(\"정우용\", \"aa@aa.com\", '123')\n",
    "user4 = User3(\"정우용\", \"aa@aa.com\", '123')\n",
    "user5 = User3(\"정우용\", \"aa@aa.com\", '123')\n",
    "\n",
    "print(User3.count)"
   ]
  },
  {
   "cell_type": "code",
   "execution_count": 41,
   "id": "3ae31c87",
   "metadata": {},
   "outputs": [
    {
     "name": "stdout",
     "output_type": "stream",
     "text": [
      "5\n",
      "1\n"
     ]
    }
   ],
   "source": [
    "#클래스 변수 클래스변수를 설정할때는 꼭 클래스 변수만 설정해야함.인스턴스변수를 하면 안됌.출력은된다.\n",
    "class User3:\n",
    "    count = 0\n",
    "    \n",
    "    def __init__(self, name, email, pw):\n",
    "        #유저 인스턴스의 모든 변수를 지정해주는 메소드\n",
    "        self.name = name\n",
    "        self.email = email\n",
    "        self. pw = pw\n",
    "        \n",
    "        User3.count+= 1\n",
    "        \n",
    "user1 = User3(\"정우용\", \"aa@aa.com\", '123')\n",
    "user2 = User3(\"정우용\", \"aa@aa.com\", '123')\n",
    "user3 = User3(\"정우용\", \"aa@aa.com\", '123')\n",
    "user4 = User3(\"정우용\", \"aa@aa.com\", '123')\n",
    "user5 = User3(\"정우용\", \"aa@aa.com\", '123')\n",
    "\n",
    "\n",
    "user1.count = 1 #같음이름에 인스턴스 변수를 추가하는 것.\n",
    "\n",
    "print(User3.count)\n",
    "print(user1.count)#인스턴스 변수 카운트."
   ]
  },
  {
   "cell_type": "code",
   "execution_count": 44,
   "id": "bd5ffff7",
   "metadata": {},
   "outputs": [
    {
     "name": "stdout",
     "output_type": "stream",
     "text": [
      "안녕하세요\n",
      "None\n"
     ]
    }
   ],
   "source": [
    "def print_hello():\n",
    "    print('안녕하세요')\n",
    "\n"
   ]
  },
  {
   "cell_type": "code",
   "execution_count": 47,
   "id": "cffe8740",
   "metadata": {},
   "outputs": [
    {
     "name": "stdout",
     "output_type": "stream",
     "text": [
      "함수시작\n",
      "안녕하세요\n",
      "g함수 끝\n"
     ]
    }
   ],
   "source": [
    "#데코레이터 함수1\n",
    "def print_hello():\n",
    "    print('안녕하세요')\n",
    "    \n",
    "def add_print_to(original):  #데코레이터 함수 add_print_to 를 지나가면 꾸며진다음 나온다~\n",
    "    def wrapper():\n",
    "        print('함수시작')\n",
    "        original()\n",
    "        print('g함수 끝')\n",
    "    return wrapper\n",
    "\n",
    "add_print_to(print_hello)()\n"
   ]
  },
  {
   "cell_type": "code",
   "execution_count": 50,
   "id": "7f3b76d0",
   "metadata": {},
   "outputs": [
    {
     "name": "stdout",
     "output_type": "stream",
     "text": [
      "함수시작\n",
      "안녕하세요\n",
      "g함수 끝\n"
     ]
    }
   ],
   "source": [
    "#데코레이터 함수2\n",
    "\n",
    "def add_print_to(original):  #데코레이터 함수 add_print_to 를 지나가면 꾸며진다음 나온다~\n",
    "    def wrapper():\n",
    "        print('함수시작')\n",
    "        original()\n",
    "        print('g함수 끝')\n",
    "    return wrapper\n",
    "\n",
    "@add_print_to #데코레이터 함수 사용방법. 쉽게\n",
    "def print_hello():\n",
    "    print('안녕하세요')\n",
    "print_hello()\n",
    "\n"
   ]
  },
  {
   "cell_type": "code",
   "execution_count": null,
   "id": "5f7ad301",
   "metadata": {},
   "outputs": [],
   "source": []
  }
 ],
 "metadata": {
  "kernelspec": {
   "display_name": "Python 3 (ipykernel)",
   "language": "python",
   "name": "python3"
  },
  "language_info": {
   "codemirror_mode": {
    "name": "ipython",
    "version": 3
   },
   "file_extension": ".py",
   "mimetype": "text/x-python",
   "name": "python",
   "nbconvert_exporter": "python",
   "pygments_lexer": "ipython3",
   "version": "3.10.9"
  }
 },
 "nbformat": 4,
 "nbformat_minor": 5
}
