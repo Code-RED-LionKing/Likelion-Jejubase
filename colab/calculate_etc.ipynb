{
  "nbformat": 4,
  "nbformat_minor": 0,
  "metadata": {
    "colab": {
      "provenance": []
    },
    "kernelspec": {
      "name": "python3",
      "display_name": "Python 3"
    },
    "language_info": {
      "name": "python"
    }
  },
  "cells": [
    {
      "cell_type": "code",
      "execution_count": null,
      "metadata": {
        "colab": {
          "base_uri": "https://localhost:8080/"
        },
        "id": "L7z2jDPtCqex",
        "outputId": "798e5056-60d5-45bd-8e78-f00da43d60fe"
      },
      "outputs": [
        {
          "output_type": "stream",
          "name": "stdout",
          "text": [
            "2023-05-05\n",
            "14 days, 0:00:00\n"
          ]
        },
        {
          "output_type": "execute_result",
          "data": {
            "text/plain": [
              "datetime.date(2023, 5, 5)"
            ]
          },
          "metadata": {},
          "execution_count": 16
        }
      ],
      "source": [
        "from datetime import date, timedelta\n",
        "today = date.today()\n",
        "print(today)\n",
        "\n",
        "one_week = timedelta(weeks=1)\n",
        "one_week\n",
        "\n",
        "next_week = today + one_week\n",
        "next_week\n",
        "\n",
        "two_weeks = one_week * 2\n",
        "two_weeks\n",
        "\n",
        "print(two_weeks)\n",
        "\n",
        "date.today()\n",
        "\n"
      ]
    },
    {
      "cell_type": "code",
      "source": [
        "today.isoformat()\n",
        "\n"
      ],
      "metadata": {
        "colab": {
          "base_uri": "https://localhost:8080/",
          "height": 35
        },
        "id": "7ZIdl4VxDffY",
        "outputId": "bc30e405-aa87-4ce1-c00e-39c672ce9e97"
      },
      "execution_count": null,
      "outputs": [
        {
          "output_type": "execute_result",
          "data": {
            "text/plain": [
              "'2023-05-05'"
            ],
            "application/vnd.google.colaboratory.intrinsic+json": {
              "type": "string"
            }
          },
          "metadata": {},
          "execution_count": 21
        }
      ]
    },
    {
      "cell_type": "code",
      "source": [
        "date.fromisoformat('2023-05-05')"
      ],
      "metadata": {
        "colab": {
          "base_uri": "https://localhost:8080/"
        },
        "id": "jppwv94BEn2a",
        "outputId": "806bff05-8423-44cf-9b01-004fb9cd11fb"
      },
      "execution_count": null,
      "outputs": [
        {
          "output_type": "execute_result",
          "data": {
            "text/plain": [
              "datetime.date(2023, 5, 5)"
            ]
          },
          "metadata": {},
          "execution_count": 20
        }
      ]
    },
    {
      "cell_type": "code",
      "source": [
        "today = date.today()\n",
        "today.year\n"
      ],
      "metadata": {
        "colab": {
          "base_uri": "https://localhost:8080/"
        },
        "id": "DllKeqQ_E28B",
        "outputId": "0df3a3ec-9dc7-4058-a76a-e50dad27a1f7"
      },
      "execution_count": null,
      "outputs": [
        {
          "output_type": "execute_result",
          "data": {
            "text/plain": [
              "2023"
            ]
          },
          "metadata": {},
          "execution_count": 23
        }
      ]
    },
    {
      "cell_type": "code",
      "source": [
        "today.month\n"
      ],
      "metadata": {
        "colab": {
          "base_uri": "https://localhost:8080/"
        },
        "id": "DaMcMgOZE_io",
        "outputId": "b9794b3a-2077-44e2-c7e5-b56bad13e730"
      },
      "execution_count": null,
      "outputs": [
        {
          "output_type": "execute_result",
          "data": {
            "text/plain": [
              "5"
            ]
          },
          "metadata": {},
          "execution_count": 24
        }
      ]
    },
    {
      "cell_type": "code",
      "source": [
        "\n",
        "today.day"
      ],
      "metadata": {
        "colab": {
          "base_uri": "https://localhost:8080/"
        },
        "id": "zwggplS2FDZi",
        "outputId": "821646c8-3a0b-47ed-a111-1d86670fea04"
      },
      "execution_count": null,
      "outputs": [
        {
          "output_type": "execute_result",
          "data": {
            "text/plain": [
              "5"
            ]
          },
          "metadata": {},
          "execution_count": 25
        }
      ]
    },
    {
      "cell_type": "code",
      "source": [
        "#시간당 획득 경험치양\n",
        "#하루 총 획득 경험치양 \n",
        "#1주일 획득 경험치 양\n",
        "#한달 획득 경험치양\n",
        "#100%까지 걸리는 시간,날,주,달 (현재 13.7%)\n",
        "#100%달성 날짜 계산 (현재일2023-05-05),현재 13.7%\n",
        "from datetime import date, timedelta\n",
        "\n",
        "experience_1hour = float(input(\"시간당 획득 경험치를 입력하세요.\"))\n",
        " \n",
        "experience_day = experience_1hour * 24\n",
        "experience_week = experience_day * 7\n",
        "experience_month = experience_week *4\n",
        "\n",
        "print(f'{experience_month} 한달 획득 경험치 량입니다.')\n",
        "\n",
        "now_exp = float(input(\"현재 경험치를 입력하세요\"))\n",
        "left_exp = 100.000 - now_exp\n",
        "\n",
        "left_time = left_exp / experience_1hour\n",
        "left_day = left_time / 24\n",
        "left_week = left_day / 7\n",
        "\n",
        "print(f'레벨업 까지 {left_day :0f}일 남았습니다')\n",
        "print(f'레벨업 까지 {left_week : 0f} 주 남았습니다.')\n",
        "\n",
        "\n",
        "today = date.today()\n",
        "start_date = today\n",
        "\n",
        "\n",
        "\n",
        "\n"
      ],
      "metadata": {
        "id": "DGgd4ALiFEEp"
      },
      "execution_count": null,
      "outputs": []
    },
    {
      "cell_type": "code",
      "source": [
        "# 성채석 수급량\n",
        "# 분당 수급량\n",
        "# 시간당 수급량\n",
        "\n",
        "# 훈장 5천만개까지 걸리는 시간.\n",
        "# 현재 훈장갯수.\n",
        "\n",
        "medal_min = float(input(\"분당 수급량을 입력하세요\"))\n",
        "\n",
        "medal_hour = medal_min * 60 * 400 #분당수급량 * 60분 * 상자 1개당 평균 갯수(400개)\n",
        "print(medal_hour)\n",
        "\n",
        "\n",
        "medal_target = 50000000\n",
        "medal_inven = float(input(\"현재 훈장 보유 갯수를 입력하세요\"))\n",
        "\n",
        "medal_left = medal_target - medal_inven\n",
        "\n",
        "medal_targetHour = medal_left / medal_hour\n",
        "medal_targetDay = medal_targetHour/24\n",
        "\n",
        "print(f'목표치까지 남은 훈장 갯수는 {medal_left}입니다.')\n",
        "print(f'목표치까지 남은 예상 시간은 {medal_targetHour:0f} 입니다.')\n",
        "print(f'목표치까지 남은 예상 일은 {medal_targetDay:0.1f} 입니다.')\n",
        "\n",
        "\n",
        "\n"
      ],
      "metadata": {
        "colab": {
          "base_uri": "https://localhost:8080/"
        },
        "id": "sBKK8y-5F_dM",
        "outputId": "ade609be-658a-4efd-ccde-ecdecd5a994c"
      },
      "execution_count": null,
      "outputs": [
        {
          "output_type": "stream",
          "name": "stdout",
          "text": [
            "분당 수급량을 입력하세요3.5\n",
            "84000.0\n",
            "현재 훈장 보유 갯수를 입력하세요36959000\n",
            "목표치까지 남은 훈장 갯수는 13041000.0입니다.\n",
            "목표치까지 남은 예상 시간은 155.25 입니다.\n",
            "목표치까지 남은 예상 일은 6.46875 입니다.\n"
          ]
        }
      ]
    },
    {
      "cell_type": "code",
      "source": [
        "x = [2, 3, 5, 7, 10]\n",
        "\n",
        "print(sum(x)/len(x))"
      ],
      "metadata": {
        "id": "S9Wfrwqp73l5",
        "colab": {
          "base_uri": "https://localhost:8080/"
        },
        "outputId": "d982c48e-7798-4776-bb1c-08fb258a677c"
      },
      "execution_count": null,
      "outputs": [
        {
          "output_type": "stream",
          "name": "stdout",
          "text": [
            "5.4\n"
          ]
        }
      ]
    },
    {
      "cell_type": "code",
      "source": [],
      "metadata": {
        "id": "s-J3-Gahww2n"
      },
      "execution_count": null,
      "outputs": []
    }
  ]
}