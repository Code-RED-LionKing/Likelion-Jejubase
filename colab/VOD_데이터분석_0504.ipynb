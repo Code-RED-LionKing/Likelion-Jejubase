{
  "nbformat": 4,
  "nbformat_minor": 0,
  "metadata": {
    "colab": {
      "provenance": []
    },
    "kernelspec": {
      "name": "python3",
      "display_name": "Python 3"
    },
    "language_info": {
      "name": "python"
    }
  },
  "cells": [
    {
      "cell_type": "markdown",
      "source": [
        "# VOD 강의 실습"
      ],
      "metadata": {
        "id": "egMnRKJvNwUR"
      }
    },
    {
      "cell_type": "code",
      "execution_count": null,
      "metadata": {
        "colab": {
          "base_uri": "https://localhost:8080/"
        },
        "id": "UrsJHLiJF8JA",
        "outputId": "8ca64797-7734-41e6-83f6-48f1adfe360c"
      },
      "outputs": [
        {
          "output_type": "stream",
          "name": "stdout",
          "text": [
            "이름을 입력해 쥬세요 :하이\n",
            "하이씨 안녕\n"
          ]
        }
      ],
      "source": [
        "name = input(\"이름을 입력해 쥬세요 :\")\n",
        "\n",
        "print(name + \"씨 안녕\")"
      ]
    },
    {
      "cell_type": "code",
      "source": [
        "food1 = int(input(\"내가 먹은 음식의 가격 :\"))\n",
        "food2 = int(input(\"친구가 먹은 음식의 가격 :\"))\n",
        "\n",
        "print(food1 + food2)"
      ],
      "metadata": {
        "colab": {
          "base_uri": "https://localhost:8080/"
        },
        "id": "ry543vZ-GCwk",
        "outputId": "04a6fe64-ee5d-4502-aa8b-e22e36102012"
      },
      "execution_count": null,
      "outputs": [
        {
          "output_type": "stream",
          "name": "stdout",
          "text": [
            "내가 먹은 음식의 가격 :200\n",
            "친구각 먹은 음식의 가격 :300\n",
            "500\n"
          ]
        }
      ]
    },
    {
      "cell_type": "code",
      "source": [
        "월세 = int(input(\"월세를 입력해주세요 :\"))\n",
        "관리비 = int(input(\"관리비를 입력해 주세요 :\"))\n",
        "\n",
        "print(월세 + 관리비)"
      ],
      "metadata": {
        "colab": {
          "base_uri": "https://localhost:8080/"
        },
        "id": "1tL121JsGTq7",
        "outputId": "993178cd-1d50-4aaf-9afe-125e0b473295"
      },
      "execution_count": null,
      "outputs": [
        {
          "output_type": "stream",
          "name": "stdout",
          "text": [
            "월세를 입력해주세요 :500000\n",
            "관리비를 입력해 주세요 :100000\n",
            "600000\n"
          ]
        }
      ]
    },
    {
      "cell_type": "code",
      "source": [
        "print((월세 + 관리비) * 12)"
      ],
      "metadata": {
        "colab": {
          "base_uri": "https://localhost:8080/"
        },
        "id": "WtOEZbm9HuvT",
        "outputId": "91723400-6915-4e0e-de98-88a9d2dd88f2"
      },
      "execution_count": null,
      "outputs": [
        {
          "output_type": "stream",
          "name": "stdout",
          "text": [
            "7200000\n"
          ]
        }
      ]
    },
    {
      "cell_type": "code",
      "source": [],
      "metadata": {
        "id": "cqbCdby6N7NQ"
      },
      "execution_count": null,
      "outputs": []
    },
    {
      "cell_type": "markdown",
      "source": [
        "#리스트"
      ],
      "metadata": {
        "id": "ZEAJJl8vN8Ks"
      }
    },
    {
      "cell_type": "code",
      "source": [
        "rders = [\"짜장\", \"짬뽕\", \"탕수육\"]\n",
        "print(orders)"
      ],
      "metadata": {
        "colab": {
          "base_uri": "https://localhost:8080/"
        },
        "id": "UmwOhDNhIdgW",
        "outputId": "07d587f5-56ad-4da4-a39d-982ba4b5d219"
      },
      "execution_count": null,
      "outputs": [
        {
          "output_type": "stream",
          "name": "stdout",
          "text": [
            "['짜장', '짬뽕', '탕수육']\n"
          ]
        }
      ]
    },
    {
      "cell_type": "code",
      "source": [
        "print(orders[0])\n",
        "print(orders[1])\n",
        "print(orders[2])"
      ],
      "metadata": {
        "colab": {
          "base_uri": "https://localhost:8080/"
        },
        "id": "REwXkepCKYuu",
        "outputId": "5ed42040-9083-47bf-a365-05de20608909"
      },
      "execution_count": null,
      "outputs": [
        {
          "output_type": "stream",
          "name": "stdout",
          "text": [
            "짜장\n",
            "짬뽕\n",
            "탕수육\n"
          ]
        }
      ]
    },
    {
      "cell_type": "code",
      "source": [
        "number = [10, 20, 30, 40 ,50]\n",
        "print(number)"
      ],
      "metadata": {
        "colab": {
          "base_uri": "https://localhost:8080/"
        },
        "id": "wrzg7NxTKzgK",
        "outputId": "ff8e6c09-3eb5-4a2e-b22a-590072dc9079"
      },
      "execution_count": null,
      "outputs": [
        {
          "output_type": "stream",
          "name": "stdout",
          "text": [
            "[10, 20, 30, 40, 50]\n"
          ]
        }
      ]
    },
    {
      "cell_type": "code",
      "source": [
        "print(number[4])"
      ],
      "metadata": {
        "colab": {
          "base_uri": "https://localhost:8080/"
        },
        "id": "W_c-wmPaLA_A",
        "outputId": "ffbe21eb-6308-438b-e6a7-a55158fb6cf8"
      },
      "execution_count": null,
      "outputs": [
        {
          "output_type": "stream",
          "name": "stdout",
          "text": [
            "50\n"
          ]
        }
      ]
    },
    {
      "cell_type": "markdown",
      "source": [
        "##리스트 (삽입, 삭제, 제거)"
      ],
      "metadata": {
        "id": "osydOjEJOA59"
      }
    },
    {
      "cell_type": "code",
      "source": [
        "orders.append(\"냉면\")"
      ],
      "metadata": {
        "id": "uRHqIkGdLCvl"
      },
      "execution_count": null,
      "outputs": []
    },
    {
      "cell_type": "code",
      "source": [
        "print(orders)"
      ],
      "metadata": {
        "colab": {
          "base_uri": "https://localhost:8080/"
        },
        "id": "jjyulE39LPIq",
        "outputId": "eb7cf4f0-ba58-4f58-94c1-fc43648c491e"
      },
      "execution_count": null,
      "outputs": [
        {
          "output_type": "stream",
          "name": "stdout",
          "text": [
            "['짜장', '짬뽕', '탕수육', '냉면']\n"
          ]
        }
      ]
    },
    {
      "cell_type": "code",
      "source": [
        "orders.insert(0, \"팔보채\") #인덱스, 요소 지정해줌\n",
        "orders.insert(4, \"유린기\")"
      ],
      "metadata": {
        "id": "17oeki97LRF-"
      },
      "execution_count": null,
      "outputs": []
    },
    {
      "cell_type": "code",
      "source": [
        "print(orders)\n"
      ],
      "metadata": {
        "colab": {
          "base_uri": "https://localhost:8080/"
        },
        "id": "mJ8WEDQSLU4d",
        "outputId": "09c3833e-74ed-491b-f5a3-5bd28d9bb604"
      },
      "execution_count": null,
      "outputs": [
        {
          "output_type": "stream",
          "name": "stdout",
          "text": [
            "['팔보채', '팔보채', '짜장', '짬뽕', '유린기', '탕수육', '냉면']\n"
          ]
        }
      ]
    },
    {
      "cell_type": "code",
      "source": [
        "orders.remove(\"팔보채\") #remnove 모든 파보채 다지워\n",
        "print(orders)"
      ],
      "metadata": {
        "colab": {
          "base_uri": "https://localhost:8080/"
        },
        "id": "b4rMKmTSLap2",
        "outputId": "442758f7-9375-44ca-b81d-b09a84d5df8b"
      },
      "execution_count": null,
      "outputs": [
        {
          "output_type": "stream",
          "name": "stdout",
          "text": [
            "['짜장', '짬뽕', '유린기', '탕수육', '냉면']\n"
          ]
        }
      ]
    },
    {
      "cell_type": "code",
      "source": [
        "orders.insert(3, \"양장피\")\n",
        "print(orders)"
      ],
      "metadata": {
        "colab": {
          "base_uri": "https://localhost:8080/"
        },
        "id": "gwB_DweMLpAp",
        "outputId": "bab10d8f-cbca-4b12-e270-350baecd0b6f"
      },
      "execution_count": null,
      "outputs": [
        {
          "output_type": "stream",
          "name": "stdout",
          "text": [
            "['짜장', '짬뽕', '유린기', '양장피', '양장피', '탕수육', '냉면']\n"
          ]
        }
      ]
    },
    {
      "cell_type": "code",
      "source": [
        "del orders[3]"
      ],
      "metadata": {
        "id": "Fo5OQxXzMiA9"
      },
      "execution_count": null,
      "outputs": []
    },
    {
      "cell_type": "code",
      "source": [
        "print(orders)"
      ],
      "metadata": {
        "colab": {
          "base_uri": "https://localhost:8080/"
        },
        "id": "xJKQ1qK5M1v_",
        "outputId": "0185f96a-e43e-49d4-f593-6d2e41d9ef3f"
      },
      "execution_count": null,
      "outputs": [
        {
          "output_type": "stream",
          "name": "stdout",
          "text": [
            "['짜장', '짬뽕', '유린기', '양장피', '탕수육', '냉면']\n"
          ]
        }
      ]
    },
    {
      "cell_type": "code",
      "source": [
        "print(len(orders))"
      ],
      "metadata": {
        "colab": {
          "base_uri": "https://localhost:8080/"
        },
        "id": "tGPD4DCNNibI",
        "outputId": "866f9840-a267-4921-b923-af566d7b96a4"
      },
      "execution_count": null,
      "outputs": [
        {
          "output_type": "stream",
          "name": "stdout",
          "text": [
            "6\n"
          ]
        }
      ]
    },
    {
      "cell_type": "markdown",
      "source": [
        "## 길이 len"
      ],
      "metadata": {
        "id": "EsauIHrvOKUk"
      }
    },
    {
      "cell_type": "code",
      "source": [
        "name = \"안녕하세요 코드 라이언입니다.\" #띄워쓰기도 하나의 문자이다.\n",
        "print(len(name))"
      ],
      "metadata": {
        "colab": {
          "base_uri": "https://localhost:8080/"
        },
        "id": "8_ACQF2NOMiv",
        "outputId": "993e803f-8a9e-46c9-f443-757dac9bcff5"
      },
      "execution_count": null,
      "outputs": [
        {
          "output_type": "stream",
          "name": "stdout",
          "text": [
            "16\n"
          ]
        }
      ]
    },
    {
      "cell_type": "markdown",
      "source": [
        "# 숫자로 구성된 list"
      ],
      "metadata": {
        "id": "5oreUw4HOZlU"
      }
    },
    {
      "cell_type": "code",
      "source": [
        "num = [20, 40 ,50, 10 ,30]\n",
        "print(num)"
      ],
      "metadata": {
        "colab": {
          "base_uri": "https://localhost:8080/"
        },
        "id": "3q4_8BHrOcaT",
        "outputId": "09fa63de-504a-4da8-d109-687a1ec1def7"
      },
      "execution_count": null,
      "outputs": [
        {
          "output_type": "stream",
          "name": "stdout",
          "text": [
            "[20, 40, 50, 10, 30]\n"
          ]
        }
      ]
    },
    {
      "cell_type": "code",
      "source": [
        "print(sum(num)) #리스트 내 모든 요소의 합."
      ],
      "metadata": {
        "colab": {
          "base_uri": "https://localhost:8080/"
        },
        "id": "Ye86AEjXOikn",
        "outputId": "9089f74d-08c9-4691-808b-0b8d206e576e"
      },
      "execution_count": null,
      "outputs": [
        {
          "output_type": "stream",
          "name": "stdout",
          "text": [
            "150\n"
          ]
        }
      ]
    },
    {
      "cell_type": "markdown",
      "source": [
        "\n",
        "\n",
        "1.   최대값과 최소값\n",
        "\n",
        "\n"
      ],
      "metadata": {
        "id": "4kPAPXZkTpYx"
      }
    },
    {
      "cell_type": "code",
      "source": [
        "print(sum(num) / len(num)) # 전체의 합을 리스트의 길이로 나누어줌."
      ],
      "metadata": {
        "colab": {
          "base_uri": "https://localhost:8080/"
        },
        "id": "lSG3l_E9TrU6",
        "outputId": "d332150f-b026-4535-bfaa-325e6687ed59"
      },
      "execution_count": null,
      "outputs": [
        {
          "output_type": "stream",
          "name": "stdout",
          "text": [
            "30.0\n"
          ]
        }
      ]
    },
    {
      "cell_type": "code",
      "source": [
        "print(max(num)) #최대값\n",
        "print(min(num)) #최소값"
      ],
      "metadata": {
        "colab": {
          "base_uri": "https://localhost:8080/"
        },
        "id": "JH0-FF2hUIQC",
        "outputId": "3a349277-4704-45bd-c00c-4a789fb2d743"
      },
      "execution_count": null,
      "outputs": [
        {
          "output_type": "stream",
          "name": "stdout",
          "text": [
            "50\n",
            "10\n"
          ]
        }
      ]
    },
    {
      "cell_type": "markdown",
      "source": [
        "#딕셔너리"
      ],
      "metadata": {
        "id": "M_GGCBgFVTsV"
      }
    },
    {
      "cell_type": "code",
      "source": [
        "menu = {'짜장' : 4000, # 딕셔너리에서는 키와 벨류가 한쌍. 콜론으로 구분된다.\n",
        "        '짬뽕' : 5000, # 각각의 데이터는 쉼표로 구분함.\n",
        "        '탕수육' : 9000}\n",
        "print(menu)"
      ],
      "metadata": {
        "colab": {
          "base_uri": "https://localhost:8080/"
        },
        "id": "Lxz0rva6UXbr",
        "outputId": "bb8eff42-c79b-4dde-af13-09cf95a33893"
      },
      "execution_count": null,
      "outputs": [
        {
          "output_type": "stream",
          "name": "stdout",
          "text": [
            "{'짜장': 4000, '짬뽕': 5000, '탕수육': 9000}\n"
          ]
        }
      ]
    },
    {
      "cell_type": "code",
      "source": [
        "family = {'아빠' : 45,\n",
        "          '엄마' : 40,\n",
        "          '나' : 33}\n",
        "print(family)"
      ],
      "metadata": {
        "colab": {
          "base_uri": "https://localhost:8080/"
        },
        "id": "L9o8gqNSVPdy",
        "outputId": "791e2c9b-91fb-4695-d17e-b7e8653c7a41"
      },
      "execution_count": null,
      "outputs": [
        {
          "output_type": "stream",
          "name": "stdout",
          "text": [
            "{'아빠': 45, '엄마': 40, '나': 33}\n"
          ]
        }
      ]
    },
    {
      "cell_type": "code",
      "source": [
        "menu['냉면'] = 6000 #딕셔너리 추가방법.리스트 추가방법과 조금다름.\n",
        "print(menu)"
      ],
      "metadata": {
        "colab": {
          "base_uri": "https://localhost:8080/"
        },
        "id": "e1l_caQQVjuE",
        "outputId": "d851676b-f307-4eee-ff70-9770020a031e"
      },
      "execution_count": null,
      "outputs": [
        {
          "output_type": "stream",
          "name": "stdout",
          "text": [
            "{'짜장': 4000, '짬뽕': 5000, '탕수육': 9000, '냉면': 6000}\n"
          ]
        }
      ]
    },
    {
      "cell_type": "code",
      "source": [
        "menu['짬뽕밥'] = 4500\n",
        "print(menu)"
      ],
      "metadata": {
        "colab": {
          "base_uri": "https://localhost:8080/"
        },
        "id": "WTooK_QHV5iE",
        "outputId": "2ded5f85-f180-4e50-9d46-363df3facc7b"
      },
      "execution_count": null,
      "outputs": [
        {
          "output_type": "stream",
          "name": "stdout",
          "text": [
            "{'짜장': 4000, '짬뽕': 5000, '탕수육': 9000, '냉면': 6000, '짬뽕밥': 4500}\n"
          ]
        }
      ]
    },
    {
      "cell_type": "code",
      "source": [
        "print(menu['짬뽕'])  #딕셔너리에서는 키값이 중요하다.\n",
        "print(menu['탕수육'])\n"
      ],
      "metadata": {
        "colab": {
          "base_uri": "https://localhost:8080/"
        },
        "id": "AncS7AstWBux",
        "outputId": "ce3c981c-063b-4fbf-c1cc-41a6754dd29a"
      },
      "execution_count": null,
      "outputs": [
        {
          "output_type": "stream",
          "name": "stdout",
          "text": [
            "5000\n",
            "9000\n"
          ]
        }
      ]
    },
    {
      "cell_type": "code",
      "source": [
        "menu['탕수육'] = 8500\n",
        "print(menu)"
      ],
      "metadata": {
        "colab": {
          "base_uri": "https://localhost:8080/"
        },
        "id": "QGUknNdCWMqz",
        "outputId": "762d9848-0baf-42e2-d7eb-6dd564fea17c"
      },
      "execution_count": null,
      "outputs": [
        {
          "output_type": "stream",
          "name": "stdout",
          "text": [
            "{'짜장': 4000, '짬뽕': 5000, '탕수육': 8500, '냉면': 6000, '짬뽕밥': 4500}\n"
          ]
        }
      ]
    },
    {
      "cell_type": "code",
      "source": [
        "menu['짜장면'] = 5000\n",
        "print(menu)"
      ],
      "metadata": {
        "colab": {
          "base_uri": "https://localhost:8080/"
        },
        "id": "U9v8m_wjWh5u",
        "outputId": "483f685c-99ff-48c1-fe54-83632e4287a4"
      },
      "execution_count": null,
      "outputs": [
        {
          "output_type": "stream",
          "name": "stdout",
          "text": [
            "{'짜장': 4000, '짬뽕': 5000, '탕수육': 8500, '냉면': 6000, '짬뽕밥': 4500, '짜장면': 5000}\n"
          ]
        }
      ]
    },
    {
      "cell_type": "markdown",
      "source": [
        "\n",
        "\n",
        "## 딕셔너리 삭제\n",
        "\n",
        "\n"
      ],
      "metadata": {
        "id": "Vw1pwWf5WwrM"
      }
    },
    {
      "cell_type": "code",
      "source": [
        "del menu['짜장']\n",
        "print(menu)"
      ],
      "metadata": {
        "colab": {
          "base_uri": "https://localhost:8080/"
        },
        "id": "YqGeOeMnW0gv",
        "outputId": "541b0921-5dd2-433f-b571-8645eda6d51f"
      },
      "execution_count": null,
      "outputs": [
        {
          "output_type": "stream",
          "name": "stdout",
          "text": [
            "{'짬뽕': 5000, '탕수육': 8500, '냉면': 6000, '짬뽕밥': 4500, '짜장면': 5000}\n"
          ]
        }
      ]
    },
    {
      "cell_type": "code",
      "source": [
        "del menu['탕수육']\n",
        "print(menu)"
      ],
      "metadata": {
        "colab": {
          "base_uri": "https://localhost:8080/"
        },
        "id": "XYs2ua4RW4jF",
        "outputId": "0b97a303-24ff-4e78-bf90-99f701e0afa9"
      },
      "execution_count": null,
      "outputs": [
        {
          "output_type": "stream",
          "name": "stdout",
          "text": [
            "{'짬뽕': 5000, '냉면': 6000, '짬뽕밥': 4500, '짜장면': 5000}\n"
          ]
        }
      ]
    },
    {
      "cell_type": "code",
      "source": [
        "menu['짬뽕'] = 8500\n",
        "print(menu)"
      ],
      "metadata": {
        "colab": {
          "base_uri": "https://localhost:8080/"
        },
        "id": "gNocAhPeXCQB",
        "outputId": "f957ec2d-9503-4f5b-b70e-322effe941bb"
      },
      "execution_count": null,
      "outputs": [
        {
          "output_type": "stream",
          "name": "stdout",
          "text": [
            "{'짬뽕': 8500, '냉면': 6000, '짬뽕밥': 4500, '짜장면': 5000}\n"
          ]
        }
      ]
    },
    {
      "cell_type": "code",
      "source": [
        "del menu['냉면']\n",
        "print(menu)"
      ],
      "metadata": {
        "colab": {
          "base_uri": "https://localhost:8080/"
        },
        "id": "dA3tPJ78XgtA",
        "outputId": "07a14ea8-46ce-4fa0-d688-d31caf54993c"
      },
      "execution_count": null,
      "outputs": [
        {
          "output_type": "stream",
          "name": "stdout",
          "text": [
            "{'짬뽕': 8500, '짬뽕밥': 4500, '짜장면': 5000}\n"
          ]
        }
      ]
    },
    {
      "cell_type": "code",
      "source": [],
      "metadata": {
        "id": "ubpdbLpfXj7m"
      },
      "execution_count": null,
      "outputs": []
    },
    {
      "cell_type": "markdown",
      "source": [
        "#if 문"
      ],
      "metadata": {
        "id": "WYQcL4D1XsN-"
      }
    },
    {
      "cell_type": "code",
      "source": [
        "myGrade = int(input(\"학번을 입력하세요 : \"))\n",
        "yourGrade = int(input(\"학번을 입력하세요 : \"))\n",
        "\n",
        "if myGrade == yourGrade:\n",
        "  print(\"동기네\")\n",
        "else:\n",
        "  print(\"동기 아니네\")"
      ],
      "metadata": {
        "colab": {
          "base_uri": "https://localhost:8080/"
        },
        "id": "VK0HkHWJXtQz",
        "outputId": "c32eddc5-ea3c-42b8-d623-aeaf9e848dbe"
      },
      "execution_count": null,
      "outputs": [
        {
          "output_type": "stream",
          "name": "stdout",
          "text": [
            "학번을 입력하세요 : 1\n",
            "학번을 입력하세요 : 2\n",
            "동기 아니네\n"
          ]
        }
      ]
    },
    {
      "cell_type": "code",
      "source": [
        "a = int(input(\"숫자를 입력하세요 :\"))\n",
        "b = int(input(\"숫자를 한번 더 입력하세요 : \"))\n",
        "\n",
        "if a == b:\n",
        "  print(\"하이요\")\n",
        "elif a > b:\n",
        "  print(\"안녕하세요\")\n",
        "elif a < b:\n",
        "  print(\"안녕?\")\n",
        "else:\n",
        "  print(\"누구세요?\")"
      ],
      "metadata": {
        "colab": {
          "base_uri": "https://localhost:8080/"
        },
        "id": "fc0JLGQnYddd",
        "outputId": "15b701c6-1e70-4b63-b75a-ebcd017d7946"
      },
      "execution_count": null,
      "outputs": [
        {
          "output_type": "stream",
          "name": "stdout",
          "text": [
            "숫자를 입력하세요 :10\n",
            "숫자를 한번 더 입력하세요 : 20\n",
            "안녕?\n"
          ]
        }
      ]
    },
    {
      "cell_type": "code",
      "source": [
        "orders = ['짜장', '짬뽕', '탕수육']\n",
        "\n",
        "food = input('먹고싶은 메뉴를 입력하세요 : ')\n",
        "\n",
        "if food in orders : ##어디 안에 있냐?\n",
        "  print(\"주문할 수 있습니다.\")\n",
        "else :\n",
        "  print(\"주문할 수 없습니다\")"
      ],
      "metadata": {
        "colab": {
          "base_uri": "https://localhost:8080/"
        },
        "id": "noDVBwX-b7f2",
        "outputId": "04ecf958-1ae5-4047-fcab-165d1d640daf"
      },
      "execution_count": null,
      "outputs": [
        {
          "output_type": "stream",
          "name": "stdout",
          "text": [
            "먹고싶은 메뉴를 입력하세요 : 짬뽕\n",
            "주문할 수 있습니다.\n"
          ]
        }
      ]
    },
    {
      "cell_type": "markdown",
      "source": [
        "## 딕셔너리 벨류값 출력 "
      ],
      "metadata": {
        "id": "LJd4E8fUdbFn"
      }
    },
    {
      "cell_type": "code",
      "source": [
        "menu = {'짜장' : 4000,  ##딕셔너리\n",
        "        '짬뽕' : 5000, \n",
        "        '탕수육' : 9000}\n",
        "\n",
        "food = input(\"먹고싶은 메뉴를 입력해주세요 : \")\n",
        "\n",
        "if food in menu:\n",
        "  print(menu[food],\"주문가능\") #딕셔너리 벨류값 출력.\n",
        "else :\n",
        "  print(\"주문불가\")\n"
      ],
      "metadata": {
        "colab": {
          "base_uri": "https://localhost:8080/"
        },
        "id": "yL9UrXkOck_J",
        "outputId": "17f6cc23-865d-4c66-d28a-2b05f4377fa7"
      },
      "execution_count": null,
      "outputs": [
        {
          "output_type": "stream",
          "name": "stdout",
          "text": [
            "먹고싶은 메뉴를 입력해주세요 : 짜장\n",
            "4000 주문가능\n"
          ]
        }
      ]
    },
    {
      "cell_type": "code",
      "source": [],
      "metadata": {
        "id": "ny6dviXjc-k9"
      },
      "execution_count": null,
      "outputs": []
    },
    {
      "cell_type": "markdown",
      "source": [
        "#반복문(while)"
      ],
      "metadata": {
        "id": "u617saSJdvYp"
      }
    },
    {
      "cell_type": "code",
      "source": [
        "if 10 < 90:\n",
        "  print(\"True\")"
      ],
      "metadata": {
        "colab": {
          "base_uri": "https://localhost:8080/"
        },
        "id": "jtsdm5J6dwS0",
        "outputId": "2eaff6d3-db4a-4a21-ab68-0ff78a009522"
      },
      "execution_count": null,
      "outputs": [
        {
          "output_type": "stream",
          "name": "stdout",
          "text": [
            "True\n"
          ]
        }
      ]
    },
    {
      "cell_type": "code",
      "source": [
        "i = 5 #이제 while 문좀 알겠네..\n",
        "\n",
        "while i >= 0:\n",
        "  print(i)\n",
        "  i = i - 1\n",
        "  "
      ],
      "metadata": {
        "colab": {
          "base_uri": "https://localhost:8080/"
        },
        "id": "xKmh6hkmhaMC",
        "outputId": "5c23a334-cdf1-4f0b-a728-756392519fa9"
      },
      "execution_count": null,
      "outputs": [
        {
          "output_type": "stream",
          "name": "stdout",
          "text": [
            "5\n",
            "4\n",
            "3\n",
            "2\n",
            "1\n",
            "0\n"
          ]
        }
      ]
    },
    {
      "cell_type": "code",
      "source": [
        "i = 0  \n",
        "while i < 5 :\n",
        "  print(i)\n",
        "  i = i + 1"
      ],
      "metadata": {
        "colab": {
          "base_uri": "https://localhost:8080/"
        },
        "id": "O0wqvoLujU8t",
        "outputId": "8034b5ef-a230-4517-a12e-048372fe6121"
      },
      "execution_count": null,
      "outputs": [
        {
          "output_type": "stream",
          "name": "stdout",
          "text": [
            "0\n",
            "1\n",
            "2\n",
            "3\n",
            "4\n"
          ]
        }
      ]
    },
    {
      "cell_type": "code",
      "source": [],
      "metadata": {
        "id": "FtoIQR51kMLg"
      },
      "execution_count": null,
      "outputs": []
    },
    {
      "cell_type": "markdown",
      "source": [
        "##Break"
      ],
      "metadata": {
        "id": "azQDNY7-kYUS"
      }
    },
    {
      "cell_type": "code",
      "source": [
        "i = 0 # 오대박... #while 문은 조건이 true냐 false냐 에따라 멈추고 반복하고함.\n",
        "while True :\n",
        "  print(i)\n",
        "  i = i + 1\n",
        "\n",
        "  if i == 10:\n",
        "    print(\"if문 동작\")\n",
        "    break\n",
        "\n",
        "print(\"반복문 종료\")"
      ],
      "metadata": {
        "colab": {
          "base_uri": "https://localhost:8080/"
        },
        "id": "x8U8OhCjkWsa",
        "outputId": "30055c2c-8c65-40ce-b08d-80fd53791b60"
      },
      "execution_count": null,
      "outputs": [
        {
          "output_type": "stream",
          "name": "stdout",
          "text": [
            "0\n",
            "1\n",
            "2\n",
            "3\n",
            "4\n",
            "5\n",
            "6\n",
            "7\n",
            "8\n",
            "9\n",
            "if문 동작\n",
            "반복문 종료\n"
          ]
        }
      ]
    },
    {
      "cell_type": "markdown",
      "source": [
        "##continue"
      ],
      "metadata": {
        "id": "Av0SfQ1AlvCR"
      }
    },
    {
      "cell_type": "code",
      "source": [
        "i = 0 \n",
        "while i < 10 :\n",
        "  i = i +1\n",
        "\n",
        "  if i % 2 == 0:\n",
        "    continue\n",
        "  print(i)\n",
        "\n",
        "print(\"반복종료\")"
      ],
      "metadata": {
        "colab": {
          "base_uri": "https://localhost:8080/"
        },
        "id": "GGcK77T8klf6",
        "outputId": "bc13cc86-7ab0-4aac-b719-f38351af15ac"
      },
      "execution_count": null,
      "outputs": [
        {
          "output_type": "stream",
          "name": "stdout",
          "text": [
            "1\n",
            "3\n",
            "5\n",
            "7\n",
            "9\n",
            "반복종료\n"
          ]
        }
      ]
    },
    {
      "cell_type": "markdown",
      "source": [
        "##For"
      ],
      "metadata": {
        "id": "xJZ7QGiol2a2"
      }
    },
    {
      "cell_type": "code",
      "source": [
        "for x in [10, 20, 30] :\n",
        "  print(\"안녕하세요\")"
      ],
      "metadata": {
        "colab": {
          "base_uri": "https://localhost:8080/"
        },
        "id": "arMH8tXQlhN8",
        "outputId": "b57fc7ef-bddb-46fb-c62e-d8466b24dc00"
      },
      "execution_count": null,
      "outputs": [
        {
          "output_type": "stream",
          "name": "stdout",
          "text": [
            "안녕하세요\n",
            "안녕하세요\n",
            "안녕하세요\n"
          ]
        }
      ]
    },
    {
      "cell_type": "code",
      "source": [
        "for i in range(10) :\n",
        "  print(\"안녕하세요\")"
      ],
      "metadata": {
        "colab": {
          "base_uri": "https://localhost:8080/"
        },
        "id": "czfsbLlymmY-",
        "outputId": "c67cf55b-9c76-47ef-92f7-b9f204e670b5"
      },
      "execution_count": null,
      "outputs": [
        {
          "output_type": "stream",
          "name": "stdout",
          "text": [
            "안녕하세요\n",
            "안녕하세요\n",
            "안녕하세요\n",
            "안녕하세요\n",
            "안녕하세요\n",
            "안녕하세요\n",
            "안녕하세요\n",
            "안녕하세요\n",
            "안녕하세요\n",
            "안녕하세요\n"
          ]
        }
      ]
    },
    {
      "cell_type": "code",
      "source": [
        "for i in range(5) :\n",
        "  print(\"잘가\")"
      ],
      "metadata": {
        "colab": {
          "base_uri": "https://localhost:8080/"
        },
        "id": "GOMgIWbvnFY6",
        "outputId": "6c03119c-14c0-4bbb-cf0a-3675c679352f"
      },
      "execution_count": null,
      "outputs": [
        {
          "output_type": "stream",
          "name": "stdout",
          "text": [
            "잘가\n",
            "잘가\n",
            "잘가\n",
            "잘가\n",
            "잘가\n"
          ]
        }
      ]
    },
    {
      "cell_type": "code",
      "source": [
        "for x in range(10, 20): #(시작, 종료)\n",
        "  print(x)"
      ],
      "metadata": {
        "colab": {
          "base_uri": "https://localhost:8080/"
        },
        "id": "9-xvEq96ngAL",
        "outputId": "e0954802-d0c0-43c6-9c6c-7a00a394f3d7"
      },
      "execution_count": null,
      "outputs": [
        {
          "output_type": "stream",
          "name": "stdout",
          "text": [
            "10\n",
            "11\n",
            "12\n",
            "13\n",
            "14\n",
            "15\n",
            "16\n",
            "17\n",
            "18\n",
            "19\n"
          ]
        }
      ]
    },
    {
      "cell_type": "code",
      "source": [
        "for x in range(5, 15, 3) :\n",
        "  print(x)"
      ],
      "metadata": {
        "colab": {
          "base_uri": "https://localhost:8080/"
        },
        "id": "4xa7ygJInxom",
        "outputId": "7fb0910f-ed33-4d05-b96f-c91699d1a402"
      },
      "execution_count": null,
      "outputs": [
        {
          "output_type": "stream",
          "name": "stdout",
          "text": [
            "5\n",
            "8\n",
            "11\n",
            "14\n"
          ]
        }
      ]
    },
    {
      "cell_type": "code",
      "source": [
        "for x in range(1, 11, 2) :\n",
        "  print(x)"
      ],
      "metadata": {
        "colab": {
          "base_uri": "https://localhost:8080/"
        },
        "id": "l_kNlqELoLoY",
        "outputId": "77c30a89-9299-442c-e77a-0889abea669d"
      },
      "execution_count": null,
      "outputs": [
        {
          "output_type": "stream",
          "name": "stdout",
          "text": [
            "1\n",
            "3\n",
            "5\n",
            "7\n",
            "9\n"
          ]
        }
      ]
    },
    {
      "cell_type": "code",
      "source": [
        "for x in range(3, 31, 3): #3부터 30까지 3의 배수를 출력하시오. for 연습좋네~\n",
        "  print(x)"
      ],
      "metadata": {
        "colab": {
          "base_uri": "https://localhost:8080/"
        },
        "id": "jtM05xLBoPJo",
        "outputId": "afd5da22-6bb2-405b-8082-39777bab92a5"
      },
      "execution_count": null,
      "outputs": [
        {
          "output_type": "stream",
          "name": "stdout",
          "text": [
            "3\n",
            "6\n",
            "9\n",
            "12\n",
            "15\n",
            "18\n",
            "21\n",
            "24\n",
            "27\n",
            "30\n"
          ]
        }
      ]
    },
    {
      "cell_type": "code",
      "source": [
        "for x in range(2, 31, 2) : #2부터 30 까지의 2의배수 출력\n",
        "  print(x)"
      ],
      "metadata": {
        "colab": {
          "base_uri": "https://localhost:8080/"
        },
        "id": "KiCAQR22obdu",
        "outputId": "235c7bf1-c615-4af3-9bc1-e57b6c66c02a"
      },
      "execution_count": null,
      "outputs": [
        {
          "output_type": "stream",
          "name": "stdout",
          "text": [
            "2\n",
            "4\n",
            "6\n",
            "8\n",
            "10\n",
            "12\n",
            "14\n",
            "16\n",
            "18\n",
            "20\n",
            "22\n",
            "24\n",
            "26\n",
            "28\n",
            "30\n"
          ]
        }
      ]
    },
    {
      "cell_type": "code",
      "source": [
        "result = 0 #result 값이 계속 변하네.. 이해완료!\n",
        "\n",
        "for x in range(1, 101) : #1부터 100까지의 합\n",
        "  result = result + x\n",
        "print(result)\n",
        "\n",
        "\n"
      ],
      "metadata": {
        "colab": {
          "base_uri": "https://localhost:8080/"
        },
        "id": "96rJe_W7orHn",
        "outputId": "d6555b77-ad10-4b11-d4e1-7a37816e46cd"
      },
      "execution_count": null,
      "outputs": [
        {
          "output_type": "stream",
          "name": "stdout",
          "text": [
            "5050\n"
          ]
        }
      ]
    },
    {
      "cell_type": "code",
      "source": [
        "result = 1 #result 값이 1씩증가해서 for문안에 있는 result 로 게속 할당되네 ㅇㅋ!\n",
        "\n",
        "for x in range(1, 11) : # 1부터 10까지의 곱\n",
        "  result = result * x\n",
        "print(result)\n",
        "\n",
        "# 초기에 result 변수는 1로 설정됩니다.\n",
        "\n",
        "# 반복문이 첫 번째 루프에서 실행되면, x의 값은 1이 되며, result 변수는 아직 1입니다. 그러므로 result * x의 결과는 1 * 1 = 1이 됩니다. 따라서, result 변수에는 1이 할당됩니다.\n",
        "\n",
        "# 두 번째 루프에서 x의 값은 2이며, result 변수에는 이전 루프에서 할당된 값인 1이 저장되어 있습니다. 그러므로 result * x의 결과는 1 * 2 = 2가 됩니다. 따라서, result 변수에는 2가 할당됩니다.\n",
        "\n",
        "# 세 번째 루프에서 x의 값은 3이며, result 변수에는 이전 루프에서 할당된 값인 2가 저장되어 있습니다. 그러므로 result * x의 결과는 2 * 3 = 6이 됩니다. 따라서, result 변수에는 6이 할당됩니다.\n",
        "\n",
        "# 이와 같은 방식으로 반복문이 실행되면서, result 변수에는 1부터 10까지의 정수를 곱한 결과가 차례대로 저장됩니다. 최종적으로 반복문이 끝나면, result 변수에는 1부터 10까지의 곱인 3628800이 할당되어 있습니다."
      ],
      "metadata": {
        "colab": {
          "base_uri": "https://localhost:8080/"
        },
        "id": "QYDqGNj9pNQ3",
        "outputId": "88087cfc-97f1-4e54-a398-a0a24eb353b9"
      },
      "execution_count": null,
      "outputs": [
        {
          "output_type": "stream",
          "name": "stdout",
          "text": [
            "3628800\n"
          ]
        }
      ]
    },
    {
      "cell_type": "code",
      "source": [
        "import random\n",
        "\n",
        "구매횟수 = int(input(\"몇장 구매할거에요?\"))\n",
        "\n",
        "number = random.sample(range(1,46), 6)\n",
        "for i in range(구매횟수):\n",
        "  if i > 20:\n",
        "    break\n",
        "  print(number)\n",
        "  \n",
        "  print(f'{구매횟수} 장을 구입하였습니다.')\n",
        "\n",
        "\n"
      ],
      "metadata": {
        "colab": {
          "base_uri": "https://localhost:8080/"
        },
        "id": "f5uqRq4bpg9N",
        "outputId": "0c11643e-4497-40b4-fb5b-334614928c56"
      },
      "execution_count": null,
      "outputs": [
        {
          "output_type": "stream",
          "name": "stdout",
          "text": [
            "몇장 구매할거에요?10\n",
            "[35, 43, 32, 19, 4, 1]\n",
            "10 장을 구입하였습니다.\n",
            "[35, 43, 32, 19, 4, 1]\n",
            "10 장을 구입하였습니다.\n",
            "[35, 43, 32, 19, 4, 1]\n",
            "10 장을 구입하였습니다.\n",
            "[35, 43, 32, 19, 4, 1]\n",
            "10 장을 구입하였습니다.\n",
            "[35, 43, 32, 19, 4, 1]\n",
            "10 장을 구입하였습니다.\n",
            "[35, 43, 32, 19, 4, 1]\n",
            "10 장을 구입하였습니다.\n",
            "[35, 43, 32, 19, 4, 1]\n",
            "10 장을 구입하였습니다.\n",
            "[35, 43, 32, 19, 4, 1]\n",
            "10 장을 구입하였습니다.\n",
            "[35, 43, 32, 19, 4, 1]\n",
            "10 장을 구입하였습니다.\n",
            "[35, 43, 32, 19, 4, 1]\n",
            "10 장을 구입하였습니다.\n"
          ]
        }
      ]
    },
    {
      "cell_type": "code",
      "source": [],
      "metadata": {
        "id": "GkoJJuv9Dt9J"
      },
      "execution_count": null,
      "outputs": []
    }
  ]
}