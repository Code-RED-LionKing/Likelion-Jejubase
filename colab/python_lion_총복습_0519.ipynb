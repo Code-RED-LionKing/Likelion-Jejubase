{
 "cells": [
  {
   "cell_type": "code",
   "execution_count": 3,
   "id": "423be09e",
   "metadata": {},
   "outputs": [],
   "source": [
    "import random"
   ]
  },
  {
   "cell_type": "markdown",
   "id": "90a6492c",
   "metadata": {},
   "source": [
    "# 랜덤, 반복문"
   ]
  },
  {
   "cell_type": "code",
   "execution_count": 46,
   "id": "74ab0a87",
   "metadata": {},
   "outputs": [
    {
     "name": "stdout",
     "output_type": "stream",
     "text": [
      "햄버거시작\n",
      "제육볶음\n",
      "다시시작\n",
      "된장찌개\n",
      "다시시작\n",
      "라면\n",
      "다시시작\n",
      "라면\n",
      "다시시작\n",
      "된장찌개\n",
      "다시시작\n",
      "된장찌개끝\n"
     ]
    }
   ],
   "source": [
    "\n",
    "\n",
    "menu = ['제육볶음','라면', '된장찌개', '햄버거']\n",
    "\n",
    "\n",
    "print(selected_menu + '시작')\n",
    "\n",
    "for i in range(5):\n",
    "    selected_menu = random.choice(menu)\n",
    "    print(selected_menu)\n",
    "    print(\"다시시작\")\n",
    "print(selected_menu  + \"끝\")\n"
   ]
  },
  {
   "cell_type": "code",
   "execution_count": 11,
   "id": "0fc1072b",
   "metadata": {
    "scrolled": true
   },
   "outputs": [
    {
     "name": "stdout",
     "output_type": "stream",
     "text": [
      "bb\n"
     ]
    }
   ],
   "source": [
    "print(random.choice(['aa', 'bb']))"
   ]
  },
  {
   "cell_type": "code",
   "execution_count": 36,
   "id": "12e9a1ea",
   "metadata": {},
   "outputs": [],
   "source": [
    "import time"
   ]
  },
  {
   "cell_type": "code",
   "execution_count": 47,
   "id": "d97319d6",
   "metadata": {
    "scrolled": true
   },
   "outputs": [
    {
     "name": "stdout",
     "output_type": "stream",
     "text": [
      "c\n",
      "이것도 반복되나?\n",
      "a\n",
      "이것도 반복되나?\n",
      "c\n",
      "이것도 반복되나?\n",
      "c\n",
      "이것도 반복되나?\n",
      "a\n",
      "이것도 반복되나?\n"
     ]
    }
   ],
   "source": [
    "count = 0\n",
    "\n",
    "while True:\n",
    "    print(random.choice(['a','b','c']))\n",
    "    count += 1\n",
    "    print(\"이것도 반복되나?\")\n",
    "    time.sleep(1)\n",
    "    if count == 5:\n",
    "        break\n",
    "    "
   ]
  },
  {
   "cell_type": "code",
   "execution_count": 79,
   "id": "c8624cb6",
   "metadata": {},
   "outputs": [
    {
     "name": "stdout",
     "output_type": "stream",
     "text": [
      "0\n",
      "1\n",
      "2\n",
      "된장찌개\n",
      "피자\n",
      "제육볶음\n",
      "된장찌개\n",
      "피자\n",
      "제육볶음\n"
     ]
    }
   ],
   "source": [
    "for x in range(3): #() 전 까지.\n",
    "    print(x)\n",
    "    \n",
    "foods =['된장찌개', '피자', '제육볶음']\n",
    "\n",
    "for i in range(3): #i라는 새로운 변수에 저장.\n",
    "    print(foods[i]) # i에 리스트의 요소가 하나씩들어간다. 0,1, 2 까지.\n",
    "\n",
    "for j in foods:\n",
    "    print(j)\n",
    "    "
   ]
  },
  {
   "cell_type": "code",
   "execution_count": 123,
   "id": "ea4e8c56",
   "metadata": {},
   "outputs": [
    {
     "name": "stdout",
     "output_type": "stream",
     "text": [
      "음식을 입력해 주세요:상어고기\n",
      "['된장찌개', '김치찌개', '돈까스', '상어고기']\n",
      "음식을 입력해 주세요:고래고기\n",
      "['된장찌개', '김치찌개', '돈까스', '상어고기', '고래고기']\n",
      "음식을 입력해 주세요:물고기\n",
      "['된장찌개', '김치찌개', '돈까스', '상어고기', '고래고기', '물고기']\n"
     ]
    }
   ],
   "source": [
    "lunch = ['된장찌개', '김치찌개', '돈까스']\n",
    "\n",
    "\n",
    "while True:\n",
    "    add_1 = input(\"음식을 입력해 주세요:\")\n",
    "    lunch.append(add_1)\n",
    "    print(lunch)\n",
    "    if len(lunch) > 5:\n",
    "        break\n",
    "    \n"
   ]
  },
  {
   "cell_type": "code",
   "execution_count": 127,
   "id": "7b4a6938",
   "metadata": {},
   "outputs": [
    {
     "name": "stdout",
     "output_type": "stream",
     "text": [
      "음식을 입력해 주세요:고래고기\n",
      "['된장찌개', '김치찌개', '돈까스']\n",
      "음식을 입력해 주세요:상엉고기\n",
      "['된장찌개', '김치찌개', '돈까스', '고래고기']\n",
      "음식을 입력해 주세요:q\n",
      "['된장찌개', '김치찌개', '돈까스', '고래고기', '상엉고기']\n",
      "['된장찌개', '김치찌개', '돈까스', '고래고기', '상엉고기']\n"
     ]
    }
   ],
   "source": [
    "lunch = ['된장찌개', '김치찌개', '돈까스']\n",
    "\n",
    "\n",
    "while True:\n",
    "    add_1 = input(\"음식을 입력해 주세요:\")\n",
    "    \n",
    "    print(lunch)\n",
    "    if(add_1 == 'q'):\n",
    "        break\n",
    "    else:\n",
    "        lunch.append(add_1)\n",
    "print(lunch)\n",
    "set_lunch = set(lunch)"
   ]
  },
  {
   "cell_type": "markdown",
   "id": "5e24e32e",
   "metadata": {},
   "source": [
    "# 실습"
   ]
  },
  {
   "cell_type": "code",
   "execution_count": 147,
   "id": "4103cc59",
   "metadata": {},
   "outputs": [
    {
     "name": "stdout",
     "output_type": "stream",
     "text": [
      "['된장찌개', '피자', '제육볶음', '짜장면']\n",
      "음식을 추가 해주세요 : q\n",
      "['된장찌개', '피자', '제육볶음', '짜장면']\n",
      "{'짜장면', '제육볶음', '피자', '된장찌개'}\n",
      "음식을 삭제 해주세요: q\n",
      "{'짜장면', '제육볶음', '피자', '된장찌개'} 중에서 선택합니다.\n",
      "5\n",
      "4\n",
      "3\n",
      "2\n",
      "1\n",
      "0\n",
      "된장찌개\n"
     ]
    }
   ],
   "source": [
    "import random\n",
    "import time\n",
    "\n",
    "lunch = [\"된장찌개\", \"피자\", \"제육볶음\", \"짜장면\"]\n",
    "\n",
    "while True:\n",
    "    print(lunch)\n",
    "    item = input(\"음식을 추가 해주세요 : \")\n",
    "    if(item == \"q\"):\n",
    "        break\n",
    "    else:\n",
    "        lunch.append(item)\n",
    "print(lunch)\n",
    "\n",
    "set_lunch = set(lunch)\n",
    "while True:\n",
    "    print(set_lunch)\n",
    "    item = input('음식을 삭제 해주세요: ')\n",
    "    if(item == 'q'):\n",
    "        break\n",
    "    else:\n",
    "        set_lunch = set_lunch - set([item])\n",
    "\n",
    "print(set_lunch, \"중에서 선택합니다.\")\n",
    "\n",
    "\n",
    "\n",
    "count = 6\n",
    "\n",
    "for i in range(count, 0, -1):\n",
    "    i -= 1\n",
    "    time.sleep(1)\n",
    "    if i == -1:\n",
    "        break\n",
    "    print(i)\n",
    "print(random.choice(list(set_lunch)))\n",
    "\n"
   ]
  },
  {
   "cell_type": "markdown",
   "id": "13b8dfca",
   "metadata": {},
   "source": [
    "# 리스트 (append)"
   ]
  },
  {
   "cell_type": "code",
   "execution_count": 64,
   "id": "f6300721",
   "metadata": {
    "scrolled": true
   },
   "outputs": [
    {
     "name": "stdout",
     "output_type": "stream",
     "text": [
      "['제육볶음', '라면', '된장찌개', '햄버거', '냉장고']\n",
      "['__add__', '__class__', '__class_getitem__', '__contains__', '__delattr__', '__delitem__', '__dir__', '__doc__', '__eq__', '__format__', '__ge__', '__getattribute__', '__getitem__', '__gt__', '__hash__', '__iadd__', '__imul__', '__init__', '__init_subclass__', '__iter__', '__le__', '__len__', '__lt__', '__mul__', '__ne__', '__new__', '__reduce__', '__reduce_ex__', '__repr__', '__reversed__', '__rmul__', '__setattr__', '__setitem__', '__sizeof__', '__str__', '__subclasshook__', 'append', 'clear', 'copy', 'count', 'extend', 'index', 'insert', 'pop', 'remove', 'reverse', 'sort']\n"
     ]
    }
   ],
   "source": [
    "menu = ['제육볶음','라면', '된장찌개', '햄버거']\n",
    "menu.append('냉장고')\n",
    "print(menu)\n",
    "\n",
    "print(dir(menu))\n",
    "\n"
   ]
  },
  {
   "cell_type": "code",
   "execution_count": 91,
   "id": "4d854ab8",
   "metadata": {},
   "outputs": [
    {
     "name": "stdout",
     "output_type": "stream",
     "text": [
      "['된장찌개', '피자', '제육볶음', '된장찌개']\n",
      "{'제육볶음', '피자', '된장찌개'}\n",
      "{'b', 'c', 'a'}\n"
     ]
    }
   ],
   "source": [
    "foods = ['된장찌개', '피자', '제육볶음','된장찌개']\n",
    "food_set1 = set(foods)\n",
    "food_set2 = set(['a','b','c'])\n",
    "print(foods)\n",
    "print(food_set1)\n",
    "print(food_set2)"
   ]
  },
  {
   "cell_type": "markdown",
   "id": "79df3afb",
   "metadata": {},
   "source": [
    "# 집합"
   ]
  },
  {
   "cell_type": "code",
   "execution_count": 99,
   "id": "9fcb31f8",
   "metadata": {},
   "outputs": [
    {
     "name": "stdout",
     "output_type": "stream",
     "text": [
      "{'제육볶음', '피자', '된장찌개'}\n",
      "{'된장찌개', '순대', '떡볶이', '감자'}\n",
      "{'된장찌개', '순대', '피자', '제육볶음', '떡볶이', '감자'}\n",
      "{'된장찌개'}\n",
      "{'피자', '제육볶음'}\n",
      "{'순대', '떡볶이', '감자'}\n"
     ]
    }
   ],
   "source": [
    "menu1 = set(['된장찌개', '피자', '제육볶음'])\n",
    "menu2 = set(['떡볶이', '순대', '감자', '된장찌개'])\n",
    "menu3 = menu1 | menu2 #합집합\n",
    "menu4 = menu1 & menu2 #교집합\n",
    "menu5 = menu1 - menu2 #차집합\n",
    "menu6 = menu2 - menu1 #차집합\n",
    "\n",
    "print(menu1)\n",
    "print(menu2)\n",
    "print(menu3)\n",
    "print(menu4)\n",
    "print(menu5)\n",
    "print(menu6)"
   ]
  },
  {
   "cell_type": "code",
   "execution_count": 129,
   "id": "b2a318c2",
   "metadata": {},
   "outputs": [
    {
     "name": "stdout",
     "output_type": "stream",
     "text": [
      "{'피자', '제육', '된장찌개'}\n"
     ]
    }
   ],
   "source": [
    "set_lunch = set(['된장찌개', '피자', '제육', 'a'])\n",
    "item = 'a'\n",
    "print(set_lunch - set([item]))\n",
    "                 "
   ]
  },
  {
   "cell_type": "code",
   "execution_count": 133,
   "id": "0511ba33",
   "metadata": {},
   "outputs": [
    {
     "name": "stdout",
     "output_type": "stream",
     "text": [
      "{'b', '피자', '된장찌개', '제육', 'a'}\n"
     ]
    }
   ],
   "source": [
    "set_lunch = set(['된장찌개', '피자', '제육', 'a'])\n",
    "item1 = ['b']\n",
    "print(set_lunch | set(item1))"
   ]
  },
  {
   "cell_type": "markdown",
   "id": "027dfdcf",
   "metadata": {},
   "source": [
    "# 딕셔너리"
   ]
  },
  {
   "cell_type": "code",
   "execution_count": 83,
   "id": "c36c949c",
   "metadata": {},
   "outputs": [
    {
     "name": "stdout",
     "output_type": "stream",
     "text": [
      "{'고향': '수원', '취미': '낚시', '특기': '낚시', '좋아하는 음식': '국밥'}\n",
      "낚시\n",
      "고향: 수원\n",
      "취미: 낚시\n",
      "특기: 낚시\n",
      "좋아하는 음식: 국밥\n"
     ]
    }
   ],
   "source": [
    "information = {'고향' : '수원',\n",
    "               '취미' : '낚시',\n",
    "               '특기' : '낚시',\n",
    "               '좋아하는 음식' : '국밥'}\n",
    "print(information)\n",
    "print(information.get('취미'))\n",
    "\n",
    "for x,y in information.items():\n",
    "    print(x + \":\",y )\n",
    "   \n",
    "               "
   ]
  },
  {
   "cell_type": "code",
   "execution_count": 152,
   "id": "43b40e10",
   "metadata": {},
   "outputs": [
    {
     "name": "stdout",
     "output_type": "stream",
     "text": [
      "질문을 입력해주세요 : a\n",
      "질문을 입력해주세요 : b\n",
      "질문을 입력해주세요 : q\n",
      "{'질문': 'a', '답변': ''}\n",
      "답변을 입력해주세요 : c\n"
     ]
    },
    {
     "ename": "TypeError",
     "evalue": "unhashable type: 'dict'",
     "output_type": "error",
     "traceback": [
      "\u001b[1;31m---------------------------------------------------------------------------\u001b[0m",
      "\u001b[1;31mTypeError\u001b[0m                                 Traceback (most recent call last)",
      "Cell \u001b[1;32mIn[152], line 13\u001b[0m\n\u001b[0;32m     11\u001b[0m     \u001b[38;5;28mprint\u001b[39m(i)\n\u001b[0;32m     12\u001b[0m     answer \u001b[38;5;241m=\u001b[39m \u001b[38;5;28minput\u001b[39m(\u001b[38;5;124m\"\u001b[39m\u001b[38;5;124m답변을 입력해주세요 : \u001b[39m\u001b[38;5;124m\"\u001b[39m)\n\u001b[1;32m---> 13\u001b[0m     total_dictionary[i] \u001b[38;5;241m=\u001b[39m answer\n\u001b[0;32m     14\u001b[0m \u001b[38;5;28mprint\u001b[39m(total_dictionary)\n",
      "\u001b[1;31mTypeError\u001b[0m: unhashable type: 'dict'"
     ]
    }
   ],
   "source": [
    "total_list = []\n",
    "\n",
    "while True:\n",
    "    question = input(\"질문을 입력해주세요 : \")\n",
    "    if question == \"q\":\n",
    "        break\n",
    "    else:\n",
    "        total_list.append({\"질문\" : question, \"답변\" : \"\"})\n",
    "\n",
    "for i in total_list:\n",
    "    print(i[\"질문\"])\n",
    "    answer = input(\"답변을 입력해주세요 : \")\n",
    "    i['답변'] = answer\n",
    "print(total_dictionary)"
   ]
  },
  {
   "cell_type": "markdown",
   "id": "479db11f",
   "metadata": {},
   "source": [
    "# if문"
   ]
  },
  {
   "cell_type": "code",
   "execution_count": 116,
   "id": "7f822603",
   "metadata": {},
   "outputs": [
    {
     "name": "stdout",
     "output_type": "stream",
     "text": [
      "c 곱빼기 주세요\n"
     ]
    }
   ],
   "source": [
    "import random\n",
    "\n",
    "food = ['a','b','c','d']\n",
    "\n",
    "food_ran = random.choice(food)\n",
    "\n",
    "if(food_ran == 'c'):\n",
    "    print(f'{food_ran} 곱빼기 주세요')\n",
    "else:\n",
    "    print(f'{food_ran} 그냥주세요')"
   ]
  },
  {
   "cell_type": "markdown",
   "id": "006d4873",
   "metadata": {},
   "source": [
    "# 함수"
   ]
  },
  {
   "cell_type": "code",
   "execution_count": 153,
   "id": "cbcae860",
   "metadata": {},
   "outputs": [
    {
     "name": "stdout",
     "output_type": "stream",
     "text": [
      "1. 커피를 넣는다.\n",
      "2. 우유를 넣는다.\n",
      "3. 신나게 섞는다.\n",
      "1. 블루베리 20g을 넣는다.\n",
      "2. 우유 300ml를 넣는다.\n",
      "3. 얼음을 넣는다.\n",
      "4. 믹서기에 간다.\n"
     ]
    }
   ],
   "source": [
    "def make_dolcelatte():\n",
    "    print(\"1. 얼음을 넣는다.\")\n",
    "    print(\"2. 연유를 30ml 넣는다.\")\n",
    "    print(\"3. 찬 우유를 넣는다.\")\n",
    "    print(\"4. 에스프레소샷을 넣는다.\")\n",
    "\n",
    "def make_blueberry_smoothie():\n",
    "    print(\"1. 블루베리 20g을 넣는다.\")\n",
    "    print(\"2. 우유 300ml를 넣는다.\")\n",
    "    print(\"3. 얼음을 넣는다.\")\n",
    "    print(\"4. 믹서기에 간다.\")\n",
    "\n",
    "def make_simple_latte():\n",
    "    print(\"1. 커피를 넣는다.\")\n",
    "    print(\"2. 우유를 넣는다.\")\n",
    "    print(\"3. 신나게 섞는다.\")\n",
    "\n",
    "make_simple_latte()\n",
    "make_blueberry_smoothie()"
   ]
  },
  {
   "cell_type": "code",
   "execution_count": null,
   "id": "7476750a",
   "metadata": {},
   "outputs": [],
   "source": []
  }
 ],
 "metadata": {
  "kernelspec": {
   "display_name": "Python 3 (ipykernel)",
   "language": "python",
   "name": "python3"
  },
  "language_info": {
   "codemirror_mode": {
    "name": "ipython",
    "version": 3
   },
   "file_extension": ".py",
   "mimetype": "text/x-python",
   "name": "python",
   "nbconvert_exporter": "python",
   "pygments_lexer": "ipython3",
   "version": "3.10.9"
  }
 },
 "nbformat": 4,
 "nbformat_minor": 5
}
