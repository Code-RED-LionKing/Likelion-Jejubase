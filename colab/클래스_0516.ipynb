{
 "cells": [
  {
   "cell_type": "code",
   "execution_count": null,
   "id": "e7eacbf7",
   "metadata": {},
   "outputs": [],
   "source": [
    "#해당 코드를 사용해서 부동산 코드를 만드세요\n",
    "\n",
    "class House:\n",
    "\n",
    "#매출 초기화 : 위치, 건물종류 , 매물종류, 가격, 준공연도\n",
    "  def __init__(self, location, house_type, deal_type, price, completion_year):\n",
    "\t  pass\n",
    "\n",
    "#매출 정보 표시\n",
    "  def show_detail(self):\n",
    "\t\tpass"
   ]
  },
  {
   "cell_type": "markdown",
   "id": "187f3c56",
   "metadata": {},
   "source": [
    "총 3 개의 매물이 있습니다.\n",
    "강남 아파트 매매 10.5억 2010년\n",
    "강남 빌라 전세 12.5억 2015년\n",
    "강남 빌라 전세 12.5억 2015년"
   ]
  },
  {
   "cell_type": "code",
   "execution_count": 2,
   "id": "eac2327d",
   "metadata": {},
   "outputs": [
    {
     "name": "stdout",
     "output_type": "stream",
     "text": [
      "총 3 개의 매물이 있습니다.\n",
      "강남 아파트 매매 10.5억 2010년\n",
      "강남 빌라 전세 12.5억 2015년\n",
      "강남 빌라 전세 12.5억 2015년\n"
     ]
    }
   ],
   "source": [
    "class House:\n",
    "    def __init__(self, location, house_type, deal_type, price, completion_year):\n",
    "        self.location = location\n",
    "        self.house_type = house_type\n",
    "        self.deal_type = deal_type\n",
    "        self.price = price\n",
    "        self.completion_year = completion_year\n",
    "\n",
    "    def show_detail(self):\n",
    "        print(f\"{self.location} {self.house_type} {self.deal_type} {self.price} {self.completion_year}\")\n",
    "\n",
    "\n",
    "\n",
    "house1 = House(\"강남\", \"아파트\", \"매매\", \"10.5억\", \"2010년\")\n",
    "house2 = House(\"강남\", \"빌라\", \"전세\", \"12.5억\", \"2015년\")\n",
    "house3 = House(\"강남\", \"빌라\", \"전세\", \"12.5억\", \"2015년\")\n",
    "\n",
    "\n",
    "print(\"총 3 개의 매물이 있습니다.\")\n",
    "house1.show_detail()\n",
    "house2.show_detail()\n",
    "house3.show_detail()"
   ]
  },
  {
   "cell_type": "code",
   "execution_count": 15,
   "id": "a568cade",
   "metadata": {},
   "outputs": [
    {
     "name": "stdout",
     "output_type": "stream",
     "text": [
      "전기충격\n",
      "몸통 박치기\n"
     ]
    }
   ],
   "source": [
    "class Pikachu:\n",
    "    def skill(self):\n",
    "        print(\"전기충격\")\n",
    "\n",
    "class Richu(Pikachu):\n",
    "    def new_skill(self):\n",
    "        print(\"몸통 박치기\")\n",
    "\n",
    "yongyong = Richu()\n",
    "yongyong.skill()\n",
    "yongyong.new_skill()\n"
   ]
  },
  {
   "cell_type": "code",
   "execution_count": 16,
   "id": "25d25402",
   "metadata": {},
   "outputs": [
    {
     "name": "stdout",
     "output_type": "stream",
     "text": [
      "Student __init__\n",
      "Person __init__\n",
      "파이썬 코딩 도장\n",
      "안녕하세요.\n"
     ]
    }
   ],
   "source": [
    "# super()를 활용하여 __init__ 메서드 호출\n",
    "\n",
    "class Person:\n",
    "    def __init__(self):\n",
    "        print('Person __init__')\n",
    "        self.hello = '안녕하세요.'\n",
    " \n",
    "class Student(Person):\n",
    "    def __init__(self):\n",
    "        print('Student __init__')\n",
    "        super().__init__()                # super()로 기반 클래스의 __init__ 메서드 호출\n",
    "        self.school = '파이썬 코딩 도장'\n",
    " \n",
    "james = Student()\n",
    "print(james.school)\n",
    "print(james.hello)"
   ]
  },
  {
   "cell_type": "code",
   "execution_count": 17,
   "id": "248335a7",
   "metadata": {},
   "outputs": [
    {
     "name": "stdout",
     "output_type": "stream",
     "text": [
      "나의 마블 캐릭터 이름은 타노스입니다. 저의 특수 능력치는 인피티니 건틀랫 입니다.\n"
     ]
    }
   ],
   "source": [
    "class Marvel(object):\n",
    "  def __init__(self, name, characteristic):\n",
    "    self.name = name\n",
    "    self.characteristic = characteristic\n",
    "\n",
    "  def __str__(self):\n",
    "    return f\"나의 마블 캐릭터 이름은 {self.name}입니다. 저의 특수 능력치는 {self.characteristic} 입니다.\"\n",
    "\n",
    "class Villain(Marvel):\n",
    "  pass\n",
    "\n",
    "first_villain = Villain(\"타노스\",\"인피티니 건틀랫\")\n",
    "print(first_villain)\n",
    "\n",
    "#1) 나의 마블 캐릭터 이름은 타노스입니다. 저의 특수 능력치는 인피티니 건틀랫 입니다. v\n",
    "#2) 나의 마블 캐릭터 이름은 타노스입니다. 저의 특수 능력치는 None 입니다.\n",
    "#3) None\n",
    "#4) pass\n",
    "#5) 에러발생"
   ]
  },
  {
   "cell_type": "markdown",
   "id": "c0a6372c",
   "metadata": {},
   "source": [
    "# 상속\n"
   ]
  },
  {
   "cell_type": "code",
   "execution_count": 18,
   "id": "ee3c9132",
   "metadata": {},
   "outputs": [
    {
     "name": "stdout",
     "output_type": "stream",
     "text": [
      "LG에서 만든2022년형32인치 TV\n",
      "Samsung에서 만든2023년형15인치 노트북\n"
     ]
    }
   ],
   "source": [
    "\n",
    "class TV(object):\n",
    "  def __init__(self, size, year, company):\n",
    "    self.size = size\n",
    "    self.year = year\n",
    "    self.company = company\n",
    "\n",
    "  def describe(self):\n",
    "    print(self.company + \"에서 만든\" + self.year + \"년형\" + self.size + \"인치 TV\")\n",
    "\n",
    "class Laptop(TV):\n",
    "  def describe(self):\n",
    "    print(self.company + \"에서 만든\"  + self.year + \"년형\" + self.size + \"인치 노트북\")\n",
    "\n",
    "LG_TV = TV(\"32\", \"2022\", \"LG\")\n",
    "LG_TV.describe()\n",
    "\n",
    "samsung_microwave = Laptop(\"15\", \"2023\", \"Samsung\")\n",
    "samsung_microwave.describe()\n",
    "\n"
   ]
  },
  {
   "cell_type": "code",
   "execution_count": null,
   "id": "18c08771",
   "metadata": {},
   "outputs": [],
   "source": []
  }
 ],
 "metadata": {
  "kernelspec": {
   "display_name": "Python 3 (ipykernel)",
   "language": "python",
   "name": "python3"
  },
  "language_info": {
   "codemirror_mode": {
    "name": "ipython",
    "version": 3
   },
   "file_extension": ".py",
   "mimetype": "text/x-python",
   "name": "python",
   "nbconvert_exporter": "python",
   "pygments_lexer": "ipython3",
   "version": "3.10.9"
  }
 },
 "nbformat": 4,
 "nbformat_minor": 5
}
