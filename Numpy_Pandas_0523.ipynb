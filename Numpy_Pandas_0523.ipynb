{
  "nbformat": 4,
  "nbformat_minor": 0,
  "metadata": {
    "colab": {
      "provenance": [],
      "authorship_tag": "ABX9TyMzvqfnSAnarZKk9O1wTwkb",
      "include_colab_link": true
    },
    "kernelspec": {
      "name": "python3",
      "display_name": "Python 3"
    },
    "language_info": {
      "name": "python"
    }
  },
  "cells": [
    {
      "cell_type": "markdown",
      "metadata": {
        "id": "view-in-github",
        "colab_type": "text"
      },
      "source": [
        "<a href=\"https://colab.research.google.com/github/Code-RED-LionKing/Likelion-Jejubase/blob/main/Numpy_Pandas_0523.ipynb\" target=\"_parent\"><img src=\"https://colab.research.google.com/assets/colab-badge.svg\" alt=\"Open In Colab\"/></a>"
      ]
    },
    {
      "cell_type": "markdown",
      "source": [
        "# random/ 순열/ 표준편차/ 분산\n",
        "# Pandas\n"
      ],
      "metadata": {
        "id": "qOZOhSdiOGSB"
      }
    },
    {
      "cell_type": "code",
      "execution_count": null,
      "metadata": {
        "colab": {
          "base_uri": "https://localhost:8080/"
        },
        "id": "VpT-iUn38bxo",
        "outputId": "3ab873a4-fe9e-4947-fbb5-c32db74e8809"
      },
      "outputs": [
        {
          "output_type": "stream",
          "name": "stdout",
          "text": [
            "[[0.86638622 0.78298856]\n",
            " [0.80757177 0.72307364]]\n"
          ]
        }
      ],
      "source": [
        "import numpy as np\n",
        "\n",
        "a = np.random.rand(2, 2) #0 ~ 1 사이값 랜덤.\n",
        "print(a)"
      ]
    },
    {
      "cell_type": "code",
      "source": [
        "b  = np.random.randn(2, 2) # 평균이 0, 분산이1: 표준정규분포\n",
        "print(b)"
      ],
      "metadata": {
        "colab": {
          "base_uri": "https://localhost:8080/"
        },
        "id": "UeUl5AKkCjY7",
        "outputId": "aab08d34-c0a2-4fd7-ef92-cabe506a99da"
      },
      "execution_count": null,
      "outputs": [
        {
          "output_type": "stream",
          "name": "stdout",
          "text": [
            "[[ 0.44528967 -1.29533961]\n",
            " [-0.97856777  1.24622148]]\n"
          ]
        }
      ]
    },
    {
      "cell_type": "code",
      "source": [
        "c = np.random.randint(0 ,10, size=5)\n",
        "print(c)\n"
      ],
      "metadata": {
        "colab": {
          "base_uri": "https://localhost:8080/"
        },
        "id": "wSgP_dryN0w6",
        "outputId": "f51c07b9-4b8a-4daf-cdf7-c8a6dd323c83"
      },
      "execution_count": null,
      "outputs": [
        {
          "output_type": "stream",
          "name": "stdout",
          "text": [
            "[4 4 4 9 8]\n"
          ]
        }
      ]
    },
    {
      "cell_type": "code",
      "source": [
        "c2 = np.random.randint(0, 10, size=(2,2))\n",
        "print(c2)"
      ],
      "metadata": {
        "colab": {
          "base_uri": "https://localhost:8080/"
        },
        "id": "V3vcmQobN5l5",
        "outputId": "78b018f6-8008-40bc-87a4-861ef97ccfaa"
      },
      "execution_count": null,
      "outputs": [
        {
          "output_type": "stream",
          "name": "stdout",
          "text": [
            "[[2 5]\n",
            " [3 0]]\n"
          ]
        }
      ]
    },
    {
      "cell_type": "code",
      "source": [
        "d = np.arange(5)\n",
        "d_shuffle = np.random.shuffle(d) # 원본 값이 변한다. print(d_shuffle)가 안됨. 변한값이 복사가 안된다.\n",
        "print(d)"
      ],
      "metadata": {
        "colab": {
          "base_uri": "https://localhost:8080/"
        },
        "id": "2K0-v1sjDA_L",
        "outputId": "7ad68062-3f98-4595-efe5-2db7464ea087"
      },
      "execution_count": null,
      "outputs": [
        {
          "output_type": "stream",
          "name": "stdout",
          "text": [
            "[4 3 1 0 2]\n"
          ]
        }
      ]
    },
    {
      "cell_type": "code",
      "source": [
        "choice = np.random.choice(2, 5) #중복 허용\n",
        "print(choice)\n",
        "\n",
        "choice = np.random.choice(5, 3, replace= False) #replace=False #중복 허용 x\n",
        "print(choice) \n",
        "\n",
        "choice = np.random.choice(d, 5, replace = False)\n",
        "print(choice)\n",
        "\n",
        "choice = np.random.choice(d, 5, p=[0, 0.2, 0.2, 0.1, 0.5])# =p = []지정확률 "
      ],
      "metadata": {
        "colab": {
          "base_uri": "https://localhost:8080/"
        },
        "id": "_C-wEHDVIPVn",
        "outputId": "6fcfd511-afbe-4ee3-c0f9-4bf9e6ccc210"
      },
      "execution_count": null,
      "outputs": [
        {
          "output_type": "stream",
          "name": "stdout",
          "text": [
            "[1 1 0 1 1]\n",
            "[4 1 0]\n",
            "[3 0 4 2 1]\n"
          ]
        }
      ]
    },
    {
      "cell_type": "code",
      "source": [
        "# permutation 순열\n",
        "\n",
        "a = np.arange(10)\n",
        "print(a)\n",
        "a_p = np.random.permutation(a)\n",
        "print(a_p)\n",
        "print(a)"
      ],
      "metadata": {
        "colab": {
          "base_uri": "https://localhost:8080/"
        },
        "id": "zhMJ-Vr2I4jZ",
        "outputId": "e7f32d81-d3c0-4386-9d2a-50235cb21be9"
      },
      "execution_count": null,
      "outputs": [
        {
          "output_type": "stream",
          "name": "stdout",
          "text": [
            "[0 1 2 3 4 5 6 7 8 9]\n",
            "[5 2 1 8 9 0 7 6 4 3]\n",
            "[0 1 2 3 4 5 6 7 8 9]\n"
          ]
        }
      ]
    },
    {
      "cell_type": "code",
      "source": [
        "#정규분포를 따르는 난수 생성\n",
        "#a = np.random.normal('평균', '표준편차', '갯수')\n",
        "a = np.random.normal(0, 1, 3)\n",
        "print(a)"
      ],
      "metadata": {
        "colab": {
          "base_uri": "https://localhost:8080/"
        },
        "id": "eiSeiZI6MR_-",
        "outputId": "49d60c9e-770b-41c9-9ea8-19cec5ff0c6f"
      },
      "execution_count": null,
      "outputs": [
        {
          "output_type": "stream",
          "name": "stdout",
          "text": [
            "[-1.01962851 -1.05952141 -0.43800501]\n"
          ]
        }
      ]
    },
    {
      "cell_type": "code",
      "source": [],
      "metadata": {
        "id": "lQCD2rx8NVYG"
      },
      "execution_count": null,
      "outputs": []
    },
    {
      "cell_type": "markdown",
      "source": [
        "## pandas"
      ],
      "metadata": {
        "id": "P3vC7VBaZIaU"
      }
    },
    {
      "cell_type": "code",
      "source": [
        "import pandas as pd\n"
      ],
      "metadata": {
        "id": "ryhRozVqZJMh"
      },
      "execution_count": null,
      "outputs": []
    },
    {
      "cell_type": "markdown",
      "source": [
        "#series"
      ],
      "metadata": {
        "id": "ix6ZBXbw0_R4"
      }
    },
    {
      "cell_type": "code",
      "source": [
        "data =[1, 2, 3, 4, 5]\n",
        "index = ['a', 'b' ,'c' ,'d','e']\n",
        "series = pd.Series(data, index=index) # 활용\n",
        "print(series)"
      ],
      "metadata": {
        "id": "tVzNGB6lZMJB",
        "colab": {
          "base_uri": "https://localhost:8080/"
        },
        "outputId": "8eeb14a7-f5f3-4a64-d03b-4ac6d3ed99d0"
      },
      "execution_count": null,
      "outputs": [
        {
          "output_type": "stream",
          "name": "stdout",
          "text": [
            "a    1\n",
            "b    2\n",
            "c    3\n",
            "d    4\n",
            "e    5\n",
            "dtype: int64\n"
          ]
        }
      ]
    },
    {
      "cell_type": "code",
      "source": [
        "series[:4]"
      ],
      "metadata": {
        "colab": {
          "base_uri": "https://localhost:8080/"
        },
        "id": "THunAFzbgyyW",
        "outputId": "6e53042a-0295-4661-e069-bf4ba7a3c188"
      },
      "execution_count": null,
      "outputs": [
        {
          "output_type": "execute_result",
          "data": {
            "text/plain": [
              "a    1\n",
              "b    2\n",
              "c    3\n",
              "d    4\n",
              "dtype: int64"
            ]
          },
          "metadata": {},
          "execution_count": 51
        }
      ]
    },
    {
      "cell_type": "code",
      "source": [
        "print(series >4 )\n",
        "\n",
        "print(series[series > 2])"
      ],
      "metadata": {
        "colab": {
          "base_uri": "https://localhost:8080/"
        },
        "id": "no32pjB11BLQ",
        "outputId": "8acbd4c3-1d81-4d11-b0a8-b664396fcea2"
      },
      "execution_count": null,
      "outputs": [
        {
          "output_type": "stream",
          "name": "stdout",
          "text": [
            "a    False\n",
            "b    False\n",
            "c    False\n",
            "d    False\n",
            "e     True\n",
            "dtype: bool\n",
            "c    3\n",
            "d    4\n",
            "e    5\n",
            "dtype: int64\n"
          ]
        }
      ]
    },
    {
      "cell_type": "code",
      "source": [
        "print(series[series < 5])"
      ],
      "metadata": {
        "colab": {
          "base_uri": "https://localhost:8080/"
        },
        "id": "wUPeLKqG2M3O",
        "outputId": "1422bf66-bf94-4adc-d312-19fef8d21b4c"
      },
      "execution_count": null,
      "outputs": [
        {
          "output_type": "stream",
          "name": "stdout",
          "text": [
            "a    1\n",
            "b    2\n",
            "c    3\n",
            "d    4\n",
            "dtype: int64\n"
          ]
        }
      ]
    },
    {
      "cell_type": "code",
      "source": [
        "print(series + 100)\n",
        "print(series - 100)\n",
        "print(series * 100)\n",
        "print(series ** 100)\n",
        "print(series / 100)\n",
        "print(series % 100)\n",
        "print(series // 100)"
      ],
      "metadata": {
        "colab": {
          "base_uri": "https://localhost:8080/"
        },
        "id": "-Xz6PJs72eYD",
        "outputId": "6ab81c4e-9e32-48d1-d5fe-1c4545e05a15"
      },
      "execution_count": null,
      "outputs": [
        {
          "output_type": "stream",
          "name": "stdout",
          "text": [
            "a    101\n",
            "b    102\n",
            "c    103\n",
            "d    104\n",
            "e    105\n",
            "dtype: int64\n",
            "a   -99\n",
            "b   -98\n",
            "c   -97\n",
            "d   -96\n",
            "e   -95\n",
            "dtype: int64\n",
            "a    100\n",
            "b    200\n",
            "c    300\n",
            "d    400\n",
            "e    500\n",
            "dtype: int64\n",
            "a                      1\n",
            "b                      0\n",
            "c   -2984622845537545263\n",
            "d                      0\n",
            "e   -3842938066129721103\n",
            "dtype: int64\n",
            "a    0.01\n",
            "b    0.02\n",
            "c    0.03\n",
            "d    0.04\n",
            "e    0.05\n",
            "dtype: float64\n",
            "a    1\n",
            "b    2\n",
            "c    3\n",
            "d    4\n",
            "e    5\n",
            "dtype: int64\n",
            "a    0\n",
            "b    0\n",
            "c    0\n",
            "d    0\n",
            "e    0\n",
            "dtype: int64\n"
          ]
        }
      ]
    },
    {
      "cell_type": "markdown",
      "source": [
        "## Series 객체에 접근"
      ],
      "metadata": {
        "id": "V9yBcnG37MYl"
      }
    },
    {
      "cell_type": "code",
      "source": [
        "print(series.keys)"
      ],
      "metadata": {
        "colab": {
          "base_uri": "https://localhost:8080/"
        },
        "id": "BERKAp0Y4fu4",
        "outputId": "e405a620-e5c3-4666-ae5c-44132341cd83"
      },
      "execution_count": null,
      "outputs": [
        {
          "output_type": "stream",
          "name": "stdout",
          "text": [
            "<bound method Series.keys of a    1\n",
            "b    2\n",
            "c    3\n",
            "d    4\n",
            "e    5\n",
            "dtype: int64>\n"
          ]
        }
      ]
    },
    {
      "cell_type": "code",
      "source": [
        "print(series.values)"
      ],
      "metadata": {
        "colab": {
          "base_uri": "https://localhost:8080/"
        },
        "id": "2OHrbKhS6OFq",
        "outputId": "987c8fef-e350-4cdd-8cd7-1da53d4ac0d0"
      },
      "execution_count": null,
      "outputs": [
        {
          "output_type": "stream",
          "name": "stdout",
          "text": [
            "[1 2 3 4 5]\n"
          ]
        }
      ]
    },
    {
      "cell_type": "code",
      "source": [
        "s2 = pd.Series({'a':1, 'b':2,'c':3, 'd':4})\n",
        "print(s2.keys)"
      ],
      "metadata": {
        "colab": {
          "base_uri": "https://localhost:8080/"
        },
        "id": "ZiHuKd4C6SUo",
        "outputId": "11970a3b-9e60-4e74-9175-a468098577bc"
      },
      "execution_count": null,
      "outputs": [
        {
          "output_type": "stream",
          "name": "stdout",
          "text": [
            "<bound method Series.keys of a    1\n",
            "b    2\n",
            "c    3\n",
            "d    4\n",
            "dtype: int64>\n"
          ]
        }
      ]
    },
    {
      "cell_type": "code",
      "source": [
        "s2.index"
      ],
      "metadata": {
        "colab": {
          "base_uri": "https://localhost:8080/"
        },
        "id": "7ZzYUT8S65Rr",
        "outputId": "f3993923-04a0-476b-e269-7da380fb1e67"
      },
      "execution_count": null,
      "outputs": [
        {
          "output_type": "execute_result",
          "data": {
            "text/plain": [
              "Index(['a', 'b', 'c', 'd'], dtype='object')"
            ]
          },
          "metadata": {},
          "execution_count": 67
        }
      ]
    },
    {
      "cell_type": "markdown",
      "source": [
        "# items\n",
        "\n"
      ],
      "metadata": {
        "id": "kKJl1nQD_yXT"
      }
    },
    {
      "cell_type": "code",
      "source": [
        "print(s2.items())"
      ],
      "metadata": {
        "colab": {
          "base_uri": "https://localhost:8080/"
        },
        "id": "VL0aGXWM_2HT",
        "outputId": "02d29891-4596-4f32-e8db-a8e662ede8a1"
      },
      "execution_count": null,
      "outputs": [
        {
          "output_type": "stream",
          "name": "stdout",
          "text": [
            "<zip object at 0x7fd464b25200>\n"
          ]
        }
      ]
    },
    {
      "cell_type": "code",
      "source": [
        "for index, value in s2.items():\n",
        "  print(f'인덱스: {index}, 데이터: {value}')"
      ],
      "metadata": {
        "colab": {
          "base_uri": "https://localhost:8080/"
        },
        "id": "FCJx84WC_3Jp",
        "outputId": "08ee71ee-1cfd-4a34-a51e-842570a62f10"
      },
      "execution_count": null,
      "outputs": [
        {
          "output_type": "stream",
          "name": "stdout",
          "text": [
            "인덱스: a, 데이터: 1\n",
            "인덱스: b, 데이터: 2\n",
            "인덱스: c, 데이터: 3\n",
            "인덱스: d, 데이터: 4\n"
          ]
        }
      ]
    },
    {
      "cell_type": "code",
      "source": [
        "s = pd.Series([10, 20, 30, 40], index = ['a','b','c','d'])\n",
        "print(s)"
      ],
      "metadata": {
        "colab": {
          "base_uri": "https://localhost:8080/"
        },
        "id": "UjTX1vD-AbJh",
        "outputId": "fd7b8a05-dfb2-481b-d0fa-a68d71f3578e"
      },
      "execution_count": null,
      "outputs": [
        {
          "output_type": "stream",
          "name": "stdout",
          "text": [
            "a    10\n",
            "b    20\n",
            "c    30\n",
            "d    40\n",
            "dtype: int64\n"
          ]
        }
      ]
    },
    {
      "cell_type": "code",
      "source": [
        "print(s.loc['b']) #loc: 행에 접근\n",
        "print(s.loc['b':'d'])"
      ],
      "metadata": {
        "colab": {
          "base_uri": "https://localhost:8080/"
        },
        "id": "ZBBnA9cOB6_W",
        "outputId": "6fbfa74a-242e-4543-fe13-61bb05a70574"
      },
      "execution_count": null,
      "outputs": [
        {
          "output_type": "stream",
          "name": "stdout",
          "text": [
            "20\n",
            "b    20\n",
            "c    30\n",
            "d    40\n",
            "dtype: int64\n"
          ]
        }
      ]
    },
    {
      "cell_type": "code",
      "source": [
        "print(s.iloc) # 열 접근\n",
        "print(s.iloc[2])\n",
        "print(s.iloc[-1])#-1번째 인덱스값\n",
        "print(s.iloc[1:3])#1번째 ~2번쨰 인덱스값\n",
        "\n"
      ],
      "metadata": {
        "colab": {
          "base_uri": "https://localhost:8080/"
        },
        "id": "FxKkp0ZyCEsO",
        "outputId": "d3fc5da1-82a3-4a31-e8a0-772ef6e8b322"
      },
      "execution_count": null,
      "outputs": [
        {
          "output_type": "stream",
          "name": "stdout",
          "text": [
            "<pandas.core.indexing._iLocIndexer object at 0x7fd464acf5b0>\n",
            "30\n",
            "40\n",
            "b    20\n",
            "c    30\n",
            "dtype: int64\n"
          ]
        }
      ]
    },
    {
      "cell_type": "code",
      "source": [
        "print(s.at['a']) \n",
        "print(s.iat[1])"
      ],
      "metadata": {
        "colab": {
          "base_uri": "https://localhost:8080/"
        },
        "id": "pDJ3VkP6CN0P",
        "outputId": "f8cf67a5-fcfd-4ceb-9b75-74eedc7a9e62"
      },
      "execution_count": null,
      "outputs": [
        {
          "output_type": "stream",
          "name": "stdout",
          "text": [
            "10\n",
            "20\n"
          ]
        }
      ]
    },
    {
      "cell_type": "code",
      "source": [
        "print(s.get('e')) # 없는 값에 대한 처리 .get('')"
      ],
      "metadata": {
        "colab": {
          "base_uri": "https://localhost:8080/"
        },
        "id": "sTC2duOLDfMu",
        "outputId": "dcfcd5ff-9501-4bcf-f433-555f1b4ef9dc"
      },
      "execution_count": null,
      "outputs": [
        {
          "output_type": "stream",
          "name": "stdout",
          "text": [
            "None\n"
          ]
        }
      ]
    },
    {
      "cell_type": "markdown",
      "source": [
        "## 결측값 (NaN, None)\n",
        "\n",
        "Nan(Not a Number)\n",
        "\n",
        "- isna()\n",
        "- isnull()\n"
      ],
      "metadata": {
        "id": "UShezXdWQTg5"
      }
    },
    {
      "cell_type": "code",
      "source": [
        "data = [1, 2, 3, None]\n",
        "\n",
        "print(np.array(data))\n",
        "print(pd.Series(data))"
      ],
      "metadata": {
        "colab": {
          "base_uri": "https://localhost:8080/"
        },
        "id": "mbUNttwBQgG1",
        "outputId": "134f45ac-d0c6-43c3-96b0-13a9bfe98b4c"
      },
      "execution_count": null,
      "outputs": [
        {
          "output_type": "stream",
          "name": "stdout",
          "text": [
            "[1 2 3 None]\n",
            "0    1.0\n",
            "1    2.0\n",
            "2    3.0\n",
            "3    NaN\n",
            "dtype: float64\n"
          ]
        }
      ]
    },
    {
      "cell_type": "code",
      "source": [
        "s = pd.Series(data)\n",
        "\n",
        "print(s.isna())\n",
        "print(s.isnull())"
      ],
      "metadata": {
        "colab": {
          "base_uri": "https://localhost:8080/"
        },
        "id": "DS71dQ3LQseV",
        "outputId": "36c95147-0c43-473c-f715-df4cb9a2c1d5"
      },
      "execution_count": 108,
      "outputs": [
        {
          "output_type": "stream",
          "name": "stdout",
          "text": [
            "0    False\n",
            "1    False\n",
            "2    False\n",
            "3     True\n",
            "dtype: bool\n",
            "0    False\n",
            "1    False\n",
            "2    False\n",
            "3     True\n",
            "dtype: bool\n"
          ]
        }
      ]
    },
    {
      "cell_type": "code",
      "source": [
        "print((s.isna().sum()))"
      ],
      "metadata": {
        "id": "wr3-WIDOQlMU",
        "colab": {
          "base_uri": "https://localhost:8080/"
        },
        "outputId": "e16ffd55-e8bb-418d-b94c-aba79ddee281"
      },
      "execution_count": 110,
      "outputs": [
        {
          "output_type": "stream",
          "name": "stdout",
          "text": [
            "1\n"
          ]
        }
      ]
    },
    {
      "cell_type": "code",
      "source": [
        "print(s.notnull().sum())"
      ],
      "metadata": {
        "id": "66da-GVbQlkH",
        "colab": {
          "base_uri": "https://localhost:8080/"
        },
        "outputId": "8c0396d1-5985-4ce8-84c3-e06de39b52c8"
      },
      "execution_count": 111,
      "outputs": [
        {
          "output_type": "stream",
          "name": "stdout",
          "text": [
            "3\n"
          ]
        }
      ]
    },
    {
      "cell_type": "code",
      "source": [],
      "metadata": {
        "id": "XW-uDRFQQY44"
      },
      "execution_count": null,
      "outputs": []
    },
    {
      "cell_type": "markdown",
      "source": [
        "### 결측치 제거"
      ],
      "metadata": {
        "id": "zKRDLMtqUQ3L"
      }
    },
    {
      "cell_type": "code",
      "source": [
        "s.dropna() # Nan 값제거"
      ],
      "metadata": {
        "colab": {
          "base_uri": "https://localhost:8080/"
        },
        "id": "ckkiUasQUS78",
        "outputId": "029a06e8-0b53-439b-e599-faaf7394b96f"
      },
      "execution_count": 113,
      "outputs": [
        {
          "output_type": "execute_result",
          "data": {
            "text/plain": [
              "0    1.0\n",
              "1    2.0\n",
              "2    3.0\n",
              "dtype: float64"
            ]
          },
          "metadata": {},
          "execution_count": 113
        }
      ]
    },
    {
      "cell_type": "code",
      "source": [
        "s"
      ],
      "metadata": {
        "colab": {
          "base_uri": "https://localhost:8080/"
        },
        "id": "fSYvgHRJUUF1",
        "outputId": "46e9f5c6-c5f3-4a50-a170-8975f1675b59"
      },
      "execution_count": 114,
      "outputs": [
        {
          "output_type": "execute_result",
          "data": {
            "text/plain": [
              "0    1.0\n",
              "1    2.0\n",
              "2    3.0\n",
              "3    NaN\n",
              "dtype: float64"
            ]
          },
          "metadata": {},
          "execution_count": 114
        }
      ]
    },
    {
      "cell_type": "code",
      "source": [
        "s.fillna(0)\n"
      ],
      "metadata": {
        "colab": {
          "base_uri": "https://localhost:8080/"
        },
        "id": "Yw3_L058Ugv1",
        "outputId": "7a2772ed-2556-4d88-a42e-9cfdf04b6ef2"
      },
      "execution_count": 121,
      "outputs": [
        {
          "output_type": "execute_result",
          "data": {
            "text/plain": [
              "0    1.0\n",
              "1    2.0\n",
              "2    3.0\n",
              "3    0.0\n",
              "dtype: float64"
            ]
          },
          "metadata": {},
          "execution_count": 121
        }
      ]
    },
    {
      "cell_type": "code",
      "source": [
        "s.fillna(1)"
      ],
      "metadata": {
        "colab": {
          "base_uri": "https://localhost:8080/"
        },
        "id": "9qUnc5TEUpsk",
        "outputId": "0561b80c-5a8f-4b97-8d09-956d69909951"
      },
      "execution_count": 119,
      "outputs": [
        {
          "output_type": "execute_result",
          "data": {
            "text/plain": [
              "0    1.0\n",
              "1    2.0\n",
              "2    3.0\n",
              "3    1.0\n",
              "dtype: float64"
            ]
          },
          "metadata": {},
          "execution_count": 119
        }
      ]
    },
    {
      "cell_type": "code",
      "source": [],
      "metadata": {
        "id": "DnVfOvp_UvnH"
      },
      "execution_count": null,
      "outputs": []
    },
    {
      "cell_type": "markdown",
      "source": [
        "# series 함수"
      ],
      "metadata": {
        "id": "rA2c00r-V38I"
      }
    },
    {
      "cell_type": "code",
      "source": [
        "s = pd.Series([1,3,5,7,9])\n",
        "s.count()"
      ],
      "metadata": {
        "colab": {
          "base_uri": "https://localhost:8080/"
        },
        "id": "CQGi3PuRV5sE",
        "outputId": "c839dc4d-f630-4bf6-c86b-e72780c88fec"
      },
      "execution_count": 122,
      "outputs": [
        {
          "output_type": "execute_result",
          "data": {
            "text/plain": [
              "5"
            ]
          },
          "metadata": {},
          "execution_count": 122
        }
      ]
    },
    {
      "cell_type": "code",
      "source": [
        "s.min()\n",
        "s.max()"
      ],
      "metadata": {
        "colab": {
          "base_uri": "https://localhost:8080/"
        },
        "id": "UybEnTztV9l1",
        "outputId": "aa514b3b-ff39-48e9-acdf-c60d77b8f35f"
      },
      "execution_count": 123,
      "outputs": [
        {
          "output_type": "execute_result",
          "data": {
            "text/plain": [
              "9"
            ]
          },
          "metadata": {},
          "execution_count": 123
        }
      ]
    },
    {
      "cell_type": "code",
      "source": [
        "print(s.mean())\n",
        "print(s.median())\n",
        "print(s.std())\n",
        "print(s.var())"
      ],
      "metadata": {
        "colab": {
          "base_uri": "https://localhost:8080/"
        },
        "id": "TrfT56epWSob",
        "outputId": "91e056cc-bc42-4816-e3ef-ff5be7aa64fd"
      },
      "execution_count": 125,
      "outputs": [
        {
          "output_type": "stream",
          "name": "stdout",
          "text": [
            "5.0\n",
            "5.0\n",
            "3.1622776601683795\n",
            "10.0\n"
          ]
        }
      ]
    },
    {
      "cell_type": "code",
      "source": [
        "s.describe()"
      ],
      "metadata": {
        "colab": {
          "base_uri": "https://localhost:8080/"
        },
        "id": "sMHGO4kJWYNQ",
        "outputId": "27352a28-d9c8-431a-d2b9-2410d6262926"
      },
      "execution_count": 126,
      "outputs": [
        {
          "output_type": "execute_result",
          "data": {
            "text/plain": [
              "count    5.000000\n",
              "mean     5.000000\n",
              "std      3.162278\n",
              "min      1.000000\n",
              "25%      3.000000\n",
              "50%      5.000000\n",
              "75%      7.000000\n",
              "max      9.000000\n",
              "dtype: float64"
            ]
          },
          "metadata": {},
          "execution_count": 126
        }
      ]
    },
    {
      "cell_type": "code",
      "source": [],
      "metadata": {
        "id": "WELuHWxkX1OC"
      },
      "execution_count": null,
      "outputs": []
    }
  ]
}